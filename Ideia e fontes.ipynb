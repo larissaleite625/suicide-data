{
 "cells": [
  {
   "cell_type": "markdown",
   "metadata": {
    "application/vnd.databricks.v1+cell": {
     "cellMetadata": {
      "byteLimit": 2048000,
      "rowLimit": 10000
     },
     "inputWidgets": {},
     "nuid": "7e58ce3b-d616-4f97-91f8-d62577919916",
     "showTitle": false,
     "tableResultSettingsMap": {},
     "title": ""
    }
   },
   "source": [
    "\n",
    "## 1) Suicídio (taxa por 100k hab.)\n",
    "\n",
    "* **WHO – Global Health Observatory (GHO) OData API**\n",
    "  API oficial da OMS com o indicador **SDG 3.4.2 – suicide mortality rate**. Você pode listar indicadores e filtrar por país/ano via OData. ([Organização Mundial da Saúde][1])\n",
    "  • Doc API: GHO OData API. ([Organização Mundial da Saúde][2])\n",
    "  • Metadados SDG 3.4.2: definição e metodologia. ([UNSD][3])\n",
    "* **World Bank Indicators API – SH.STA.SUIC.P5**\n",
    "  Acesso simples por REST/JSON; série vem da OMS. Bom para integração rápida. ([Banco Mundial Data Help Desk][4])\n",
    "* **Our World in Data (OWID)**\n",
    "  CSVs prontos (GBD 2024 e WHO) — não é “API”, mas endpoints estáveis e fáceis de ingerir no Spark. Útil para comparações e séries longas (1980–2021). ([Our World in Data][5])\n",
    "\n",
    "## 2) Consumo de drogas (prevalência, tratamento, tráfico)\n",
    "\n",
    "* **UNODC – dataUNODC**\n",
    "  Portal oficial com **prevalência de uso por substância**, estimativas regionais, tratamento etc.; os conjuntos são disponibilizados e muitos seguem SDMX (padrão com saída JSON/CSV). Útil para indicadores comparáveis entre países. ([dataUNODC][6])\n",
    "  *Obs.:* a interface é via SDMX; dá pra consultar com libs SDMX em Python ou baixar CSVs do portal. ([Sdmx1][7])\n",
    "\n",
    "## 3) IDH\n",
    "\n",
    "* **UNDP – HDRO Data API**\n",
    "  API oficial (requer cadastro gratuito e chave) com HDI e séries relacionadas. Ideal para não depender de raspagem. ([Relatórios de Desenvolvimento Humano][8])\n",
    "* **World Bank / DataBank (HDI “UNDP.HDI.XD”)**\n",
    "  Alguns espelhos disponibilizam o HDI via endpoints WB/Databank. Se preferir evitar chave de API, confira esta série. ([DataBank][9])\n",
    "* **OWID – HDI** (CSV estável): alternativa simples se não quiser chave. ([Our World in Data][10])\n",
    "\n",
    "## 4) Saúde pública (gasto em saúde, % do PIB, fontes de financiamento)\n",
    "\n",
    "* **World Bank Indicators API (ex.: SH.XPD.CHEX.GD.ZS)**\n",
    "  Gastos correntes em saúde (% PIB) + várias séries de saúde (leitos, médicos, etc.). Fácil de consumir por REST. ([Banco Mundial Data Help Desk][4])\n",
    "* **WHO – Global Health Expenditure Database (GHED)**\n",
    "  Base detalhada da OMS (2000+), com notas metodológicas atualizadas em 2024; dá pra baixar extratos e também acessar via endpoints do ecossistema OMS/GHO. ([WHO Apps][11])\n",
    "\n",
    "## 5) Saúde mental (recursos, uso de serviços, antidepressivos)\n",
    "\n",
    "* **OECD SDMX API**\n",
    "  Para países da OCDE: consumo de antidepressivos, profissionais de saúde mental, leitos psiquiátricos, gastos, etc. A API é SDMX e gratuita. ([OECD][12])\n",
    "* **WHO GHO**\n",
    "  Tem grupos “Suicide rate estimates” e outros indicadores de saúde mental (cobertura/serviços) acessíveis via OData. ([Organização Mundial da Saúde][13])\n"
   ]
  }
 ],
 "metadata": {
  "application/vnd.databricks.v1+notebook": {
   "computePreferences": null,
   "dashboards": [],
   "environmentMetadata": {
    "base_environment": "",
    "environment_version": "3"
   },
   "inputWidgetPreferences": null,
   "language": "python",
   "notebookMetadata": {
    "pythonIndentUnit": 4
   },
   "notebookName": "Ideia e fontes",
   "widgets": {}
  },
  "language_info": {
   "name": "python"
  }
 },
 "nbformat": 4,
 "nbformat_minor": 0
}
