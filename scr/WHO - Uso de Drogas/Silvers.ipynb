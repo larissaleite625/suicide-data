{
 "cells": [
  {
   "cell_type": "code",
   "execution_count": 0,
   "metadata": {
    "application/vnd.databricks.v1+cell": {
     "cellMetadata": {
      "byteLimit": 2048000,
      "rowLimit": 10000
     },
     "inputWidgets": {},
     "nuid": "b4236b5e-d527-410f-9266-d25c1cede21f",
     "showTitle": false,
     "tableResultSettingsMap": {},
     "title": ""
    }
   },
   "outputs": [],
   "source": [
    "from pyspark.sql import functions as F\n",
    "from pyspark.sql.window import Window"
   ]
  },
  {
   "cell_type": "code",
   "execution_count": 0,
   "metadata": {
    "application/vnd.databricks.v1+cell": {
     "cellMetadata": {
      "byteLimit": 2048000,
      "rowLimit": 10000
     },
     "inputWidgets": {},
     "nuid": "d6d079fb-66a9-4769-96e2-da1a2a3ddc8d",
     "showTitle": false,
     "tableResultSettingsMap": {},
     "title": ""
    }
   },
   "outputs": [],
   "source": [
    "from pyspark.sql import functions as F\n",
    "from pyspark.sql.window import Window\n",
    "\n",
    "# Mapeamento dos indicadores (nome curto usado no Bronze)\n",
    "indicators_map = {\n",
    "    \"med_ntg\": {\"code\": \"SCSUD_MEDNTG\", \"name\": \"Medicamento em diretrizes nacionais\"},\n",
    "    \"rehab\": {\"code\": \"SCSUD_REHAB\", \"name\": \"Programas de reabilitação\"},\n",
    "    \"prison_overdose\": {\"code\": \"PRISON_D3_DEATHS_DRUG_MRATE\", \"name\": \"Mortalidade por overdose em prisões\"},\n",
    "    \"gov_progress\": {\"code\": \"SCSUD_GOVPROGRESS\", \"name\": \"Progresso em governança\"},\n",
    "    \"prison_adverse_events\": {\"code\": \"PRISON_B15_REPDRUGEVENTS\", \"name\": \"Eventos adversos em prisões\"},\n",
    "    \"treatment_coverage\": {\"code\": \"SUD_TREATMENTSERVICES_COVERAGE\", \"name\": \"Cobertura de tratamento\"},\n",
    "    \"med_reg\": {\"code\": \"SCSUD_MEDREG\", \"name\": \"Medicamento registrado\"},\n",
    "    \"financing_exp\": {\"code\": \"SCSUD_FINANCINGEXP\", \"name\": \"Gastos governamentais\"},\n",
    "    \"capacity_index\": {\"code\": \"SUD_SERVICECAPACITYINDEX\", \"name\": \"Índice de capacidade\"},\n",
    "    \"med_public\": {\"code\": \"SCSUD_MEDPUBLIC\", \"name\": \"Medicamento público gratuito\"},\n",
    "    \"rehab_progress\": {\"code\": \"SCSUD_REHABPROGRESS\", \"name\": \"Progresso em reabilitação\"},\n",
    "    \"services_nss\": {\"code\": \"SCSUD_NSS\", \"name\": \"Serviços não estruturados\"},\n",
    "    \"hcv_treated_pwid\": {\"code\": \"HEPATITIS_HCV_TREATMENT_PWID_PERCENT\", \"name\": \"Tratamento HCV em PWID\"},\n",
    "    \"pharm\": {\"code\": \"SCSUD_PHARM\", \"name\": \"Serviços farmacológicos\"},\n",
    "    \"med_formulary\": {\"code\": \"SCSUD_MEDDF\", \"name\": \"Medicamento em formulário\"},\n",
    "    \"pwid_pop\": {\"code\": \"PWID_PSE_NUM\", \"name\": \"População PWID estimada\"},\n",
    "    \"prison_sud_diag\": {\"code\": \"PRISON_D4_SUD_DIAG_TOT\", \"name\": \"Diagnósticos SUD em prisões\"},\n",
    "    \"med_access_progress\": {\"code\": \"SCSUD_MEDACCESSPROGRESS\", \"name\": \"Progresso acesso medicamentos\"},\n",
    "    \"pharm_progress\": {\"code\": \"SCSUD_PHARMPROGRESS\", \"name\": \"Progresso farmacológico\"},\n",
    "    \"hcv_test_pwid\": {\"code\": \"HEPATITIS_HCV_TESTING_PWID_PERCENT\", \"name\": \"Teste HCV em PWID\"}\n",
    "}\n"
   ]
  },
  {
   "cell_type": "code",
   "execution_count": 0,
   "metadata": {
    "application/vnd.databricks.v1+cell": {
     "cellMetadata": {
      "byteLimit": 2048000,
      "rowLimit": 10000
     },
     "inputWidgets": {},
     "nuid": "b87a1f74-183e-410c-b43f-85810db80042",
     "showTitle": false,
     "tableResultSettingsMap": {},
     "title": ""
    }
   },
   "outputs": [],
   "source": [
    "dfs_unified = []\n",
    "stats = {\"success\": 0, \"failed\": 0, \"empty\": 0}\n",
    "\n",
    "for short_name, info in indicators_map.items():\n",
    "    table_name = f\"bronze.data_suicide.drug_{short_name}\"\n",
    "    \n",
    "    try:\n",
    "        # Verificar se a tabela existe\n",
    "        df = spark.table(table_name)\n",
    "        row_count = df.count()\n",
    "        \n",
    "        if row_count == 0:\n",
    "            print(f\"⚠️  {short_name}: Tabela vazia\")\n",
    "            stats[\"empty\"] += 1\n",
    "            continue\n",
    "        \n",
    "        # Normalizar estrutura baseado nas colunas disponíveis\n",
    "        # Adaptar para a estrutura real da API WHO\n",
    "        \n",
    "        # Selecionar colunas base que devem existir\n",
    "        base_cols = []\n",
    "        \n",
    "        # País\n",
    "        if \"SpatialDim\" in df.columns:\n",
    "            base_cols.append(F.col(\"SpatialDim\").alias(\"country_code\"))\n",
    "        else:\n",
    "            print(f\"⚠️  {short_name}: Sem coluna SpatialDim\")\n",
    "            continue\n",
    "        \n",
    "        # Ano\n",
    "        if \"TimeDim\" in df.columns:\n",
    "            base_cols.append(F.col(\"TimeDim\").cast(\"int\").alias(\"year\"))\n",
    "        elif \"TimeDimensionBegin\" in df.columns:\n",
    "            base_cols.append(F.year(F.col(\"TimeDimensionBegin\")).alias(\"year\"))\n",
    "        else:\n",
    "            print(f\"⚠️  {short_name}: Sem coluna de tempo\")\n",
    "            continue\n",
    "        \n",
    "        # Indicador\n",
    "        base_cols.append(F.lit(short_name).alias(\"indicator_code\"))\n",
    "        base_cols.append(F.lit(info[\"name\"]).alias(\"indicator_name\"))\n",
    "        \n",
    "        # Valor - tentar NumericValue primeiro, depois Value\n",
    "        if \"NumericValue\" in df.columns:\n",
    "            base_cols.append(\n",
    "                F.when(F.col(\"NumericValue\").isNotNull(), \n",
    "                       F.col(\"NumericValue\").cast(\"double\"))\n",
    "                 .otherwise(None)\n",
    "                 .alias(\"numeric_value\")\n",
    "            )\n",
    "        else:\n",
    "            base_cols.append(F.lit(None).cast(\"double\").alias(\"numeric_value\"))\n",
    "        \n",
    "        if \"Value\" in df.columns:\n",
    "            base_cols.append(F.col(\"Value\").alias(\"value_text\"))\n",
    "        else:\n",
    "            base_cols.append(F.lit(None).cast(\"string\").alias(\"value_text\"))\n",
    "        \n",
    "        # Criar DataFrame normalizado\n",
    "        df_clean = (\n",
    "            df.select(*base_cols)\n",
    "            .filter(F.col(\"country_code\").isNotNull())\n",
    "            .filter(F.col(\"year\").isNotNull())\n",
    "            .filter(\n",
    "                F.col(\"numeric_value\").isNotNull() | \n",
    "                F.col(\"value_text\").isNotNull()\n",
    "            )\n",
    "        )\n",
    "        \n",
    "        clean_count = df_clean.count()\n",
    "        \n",
    "        if clean_count > 0:\n",
    "            dfs_unified.append(df_clean)\n",
    "            print(f\"✓ {short_name:20s}: {clean_count:>6,} registros\")\n",
    "            stats[\"success\"] += 1\n",
    "        else:\n",
    "            print(f\"⚠️  {short_name:20s}: Sem dados válidos após limpeza\")\n",
    "            stats[\"empty\"] += 1\n",
    "            \n",
    "    except Exception as e:\n",
    "        print(f\"✗ {short_name:20s}: ERRO - {str(e)[:60]}...\")\n",
    "        stats[\"failed\"] += 1\n",
    "\n",
    "print(\"\\n\" + \"=\" * 80)\n",
    "print(\"📊 RESUMO DO PROCESSAMENTO\")\n",
    "print(\"=\" * 80)\n",
    "print(f\"✓ Sucesso: {stats['success']} tabelas\")\n",
    "print(f\"⚠️  Vazias: {stats['empty']} tabelas\")\n",
    "print(f\"✗ Erros: {stats['failed']} tabelas\")"
   ]
  },
  {
   "cell_type": "code",
   "execution_count": 0,
   "metadata": {
    "application/vnd.databricks.v1+cell": {
     "cellMetadata": {
      "byteLimit": 2048000,
      "rowLimit": 10000
     },
     "inputWidgets": {},
     "nuid": "145f034f-c6d6-4986-979f-6553d49364f3",
     "showTitle": false,
     "tableResultSettingsMap": {},
     "title": ""
    }
   },
   "outputs": [],
   "source": [
    "if len(dfs_unified) == 0:\n",
    "    print(\"\\n❌ ERRO: Nenhuma tabela foi processada com sucesso!\")\n",
    "    print(\"Verifique se as tabelas Bronze foram criadas corretamente.\")\n",
    "    print(\"\\nExecute o notebook de diagnóstico primeiro:\")\n",
    "    print(\"  → Diagnóstico - Estrutura das Tabelas de Drogas\")\n",
    "    raise Exception(\"Nenhum dado disponível para consolidar\")\n",
    "\n",
    "# ============================================================================\n",
    "# CRIAR TABELA SILVER UNIFICADA (FORMATO LONG)\n",
    "# ============================================================================\n",
    "\n",
    "print(\"\\n\" + \"=\" * 80)\n",
    "print(\"📦 CRIANDO TABELA SILVER UNIFICADA\")\n",
    "print(\"=\" * 80)"
   ]
  },
  {
   "cell_type": "code",
   "execution_count": 0,
   "metadata": {
    "application/vnd.databricks.v1+cell": {
     "cellMetadata": {
      "byteLimit": 2048000,
      "rowLimit": 10000
     },
     "inputWidgets": {},
     "nuid": "083a26d3-addb-47d2-9986-1b343cdbf3f4",
     "showTitle": false,
     "tableResultSettingsMap": {},
     "title": ""
    }
   },
   "outputs": [],
   "source": [
    "# União de todos os indicadores\n",
    "df_unified = dfs_unified[0]\n",
    "for df in dfs_unified[1:]:\n",
    "    df_unified = df_unified.union(df)\n",
    "\n",
    "# Adicionar metadados\n",
    "df_unified = (\n",
    "    df_unified\n",
    "    .withColumn(\"value_type\", \n",
    "                F.when(F.col(\"numeric_value\").isNotNull(), \"numeric\")\n",
    "                 .otherwise(\"categorical\"))\n",
    "    .withColumn(\"ingestion_date\", F.current_date())\n",
    "    .withColumn(\"ingestion_timestamp\", F.current_timestamp())\n",
    ")\n",
    "\n",
    "# Salvar formato LONG (uma linha por indicador/país/ano)\n",
    "silver_long_table = \"silver.data_suicide.drug_indicators\"\n",
    "\n",
    "print(f\"\\nSalvando formato LONG em: {silver_long_table}\")\n",
    "(\n",
    "    df_unified.write\n",
    "    .mode(\"overwrite\")\n",
    "    .option(\"mergeSchema\", \"true\")\n",
    "    .partitionBy(\"indicator_code\")\n",
    "    .saveAsTable(silver_long_table)\n",
    ")\n",
    "\n",
    "total_records = df_unified.count()\n",
    "print(f\"✅ Tabela LONG criada: {total_records:,} registros\")"
   ]
  },
  {
   "cell_type": "code",
   "execution_count": 0,
   "metadata": {
    "application/vnd.databricks.v1+cell": {
     "cellMetadata": {
      "byteLimit": 2048000,
      "rowLimit": 10000
     },
     "inputWidgets": {},
     "nuid": "b9334c63-274a-4d6d-afda-5362ba20615d",
     "showTitle": false,
     "tableResultSettingsMap": {},
     "title": ""
    }
   },
   "outputs": [],
   "source": [
    "print(\"\\n\" + \"=\" * 80)\n",
    "print(\"📦 CRIANDO TABELA SILVER WIDE\")\n",
    "print(\"=\" * 80)\n",
    "\n",
    "# Pivot apenas para valores numéricos\n",
    "df_numeric = df_unified.filter(F.col(\"numeric_value\").isNotNull())\n",
    "\n",
    "if df_numeric.count() > 0:\n",
    "    df_wide = (\n",
    "        df_numeric\n",
    "        .groupBy(\"country_code\", \"year\")\n",
    "        .pivot(\"indicator_code\")\n",
    "        .agg(F.first(\"numeric_value\"))\n",
    "    )\n",
    "    \n",
    "    # Adicionar metadados\n",
    "    df_wide = (\n",
    "        df_wide\n",
    "        .withColumn(\"ingestion_date\", F.current_date())\n",
    "        .withColumn(\"num_indicators\", \n",
    "                    F.size(F.array([F.col(c) for c in df_wide.columns \n",
    "                                    if c not in ['country_code', 'year']])))\n",
    "    )\n",
    "    \n",
    "    silver_wide_table = \"silver.data_suicide.drug_indicators_wide\"\n",
    "    \n",
    "    print(f\"\\nSalvando formato WIDE em: {silver_wide_table}\")\n",
    "    (\n",
    "        df_wide.write\n",
    "        .mode(\"overwrite\")\n",
    "        .option(\"mergeSchema\", \"true\")\n",
    "        .saveAsTable(silver_wide_table)\n",
    "    )\n",
    "    \n",
    "    wide_records = df_wide.count()\n",
    "    print(f\"✅ Tabela WIDE criada: {wide_records:,} registros\")\n",
    "    print(f\"   Colunas de indicadores: {len([c for c in df_wide.columns if c.startswith('drug_')])}\")\n",
    "else:\n",
    "    print(\"⚠️  Tabela WIDE não criada - não há dados numéricos suficientes\")"
   ]
  },
  {
   "cell_type": "code",
   "execution_count": 0,
   "metadata": {
    "application/vnd.databricks.v1+cell": {
     "cellMetadata": {
      "byteLimit": 2048000,
      "rowLimit": 10000
     },
     "inputWidgets": {},
     "nuid": "1b5f0a31-0208-4e0c-a601-c7560da94437",
     "showTitle": false,
     "tableResultSettingsMap": {},
     "title": ""
    }
   },
   "outputs": [],
   "source": [
    "print(\"\\n\" + \"=\" * 80)\n",
    "print(\"📝 ADICIONANDO DOCUMENTAÇÃO\")\n",
    "print(\"=\" * 80)\n",
    "\n",
    "spark.sql(f\"\"\"\n",
    "COMMENT ON TABLE {silver_long_table} IS\n",
    "'Indicadores de drogas WHO consolidados (formato LONG): cada linha representa um indicador/país/ano. \n",
    "Fonte: WHO GHO API. Processado de bronze.data_suicide.drug_*'\n",
    "\"\"\")\n",
    "\n",
    "spark.sql(f\"\"\"\n",
    "COMMENT ON COLUMN {silver_long_table}.country_code IS\n",
    "'Código ISO3 do país (SpatialDim da WHO)'\n",
    "\"\"\")\n",
    "\n",
    "spark.sql(f\"\"\"\n",
    "COMMENT ON COLUMN {silver_long_table}.year IS\n",
    "'Ano de referência do dado'\n",
    "\"\"\")\n",
    "\n",
    "spark.sql(f\"\"\"\n",
    "COMMENT ON COLUMN {silver_long_table}.indicator_code IS\n",
    "'Código curto do indicador (chave para join/filtro)'\n",
    "\"\"\")\n",
    "\n",
    "spark.sql(f\"\"\"\n",
    "COMMENT ON COLUMN {silver_long_table}.indicator_name IS\n",
    "'Nome descritivo do indicador'\n",
    "\"\"\")\n",
    "\n",
    "spark.sql(f\"\"\"\n",
    "COMMENT ON COLUMN {silver_long_table}.numeric_value IS\n",
    "'Valor numérico do indicador (quando aplicável)'\n",
    "\"\"\")\n",
    "\n",
    "spark.sql(f\"\"\"\n",
    "COMMENT ON COLUMN {silver_long_table}.value_text IS\n",
    "'Valor categórico/textual do indicador'\n",
    "\"\"\")\n",
    "\n",
    "if df_numeric.count() > 0:\n",
    "    spark.sql(f\"\"\"\n",
    "    COMMENT ON TABLE {silver_wide_table} IS\n",
    "    'Indicadores de drogas WHO (formato WIDE): cada coluna representa um indicador. \n",
    "    Facilita análises e correlações. Apenas valores numéricos.'\n",
    "    \"\"\")\n",
    "\n",
    "print(\"✓ Documentação adicionada\")\n"
   ]
  },
  {
   "cell_type": "code",
   "execution_count": 0,
   "metadata": {
    "application/vnd.databricks.v1+cell": {
     "cellMetadata": {
      "byteLimit": 2048000,
      "rowLimit": 10000
     },
     "inputWidgets": {},
     "nuid": "22e9093c-c9ec-49cc-8147-e47a8de3c991",
     "showTitle": false,
     "tableResultSettingsMap": {},
     "title": ""
    }
   },
   "outputs": [],
   "source": [
    "print(\"\\n\" + \"=\" * 80)\n",
    "print(\"🔍 ANÁLISE EXPLORATÓRIA\")\n",
    "print(\"=\" * 80)\n",
    "\n",
    "# Cobertura por indicador\n",
    "print(\"\\n1️⃣ COBERTURA POR INDICADOR:\")\n",
    "coverage = (\n",
    "    df_unified\n",
    "    .groupBy(\"indicator_code\", \"indicator_name\")\n",
    "    .agg(\n",
    "        F.countDistinct(\"country_code\").alias(\"num_countries\"),\n",
    "        F.count(\"*\").alias(\"total_records\"),\n",
    "        F.min(\"year\").alias(\"first_year\"),\n",
    "        F.max(\"year\").alias(\"last_year\")\n",
    "    )\n",
    "    .orderBy(F.desc(\"num_countries\"))\n",
    ")\n",
    "display(coverage)\n",
    "\n",
    "# Cobertura por país\n",
    "print(\"\\n2️⃣ TOP 10 PAÍSES COM MAIS DADOS:\")\n",
    "country_coverage = (\n",
    "    df_unified\n",
    "    .groupBy(\"country_code\")\n",
    "    .agg(\n",
    "        F.countDistinct(\"indicator_code\").alias(\"num_indicators\"),\n",
    "        F.count(\"*\").alias(\"total_records\")\n",
    "    )\n",
    "    .orderBy(F.desc(\"num_indicators\"))\n",
    "    .limit(10)\n",
    ")\n",
    "display(country_coverage)\n",
    "\n",
    "# Anos com mais dados\n",
    "print(\"\\n3️⃣ COBERTURA POR ANO:\")\n",
    "year_coverage = (\n",
    "    df_unified\n",
    "    .groupBy(\"year\")\n",
    "    .agg(\n",
    "        F.countDistinct(\"country_code\").alias(\"num_countries\"),\n",
    "        F.countDistinct(\"indicator_code\").alias(\"num_indicators\"),\n",
    "        F.count(\"*\").alias(\"total_records\")\n",
    "    )\n",
    "    .orderBy(\"year\")\n",
    ")\n",
    "display(year_coverage)"
   ]
  }
 ],
 "metadata": {
  "application/vnd.databricks.v1+notebook": {
   "computePreferences": null,
   "dashboards": [],
   "environmentMetadata": {
    "base_environment": "",
    "environment_version": "4"
   },
   "inputWidgetPreferences": null,
   "language": "python",
   "notebookMetadata": {
    "pythonIndentUnit": 4
   },
   "notebookName": "Silvers",
   "widgets": {}
  },
  "language_info": {
   "name": "python"
  }
 },
 "nbformat": 4,
 "nbformat_minor": 0
}
