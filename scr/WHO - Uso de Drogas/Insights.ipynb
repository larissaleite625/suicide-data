{
 "cells": [
  {
   "cell_type": "code",
   "execution_count": 0,
   "metadata": {
    "application/vnd.databricks.v1+cell": {
     "cellMetadata": {
      "byteLimit": 2048000,
      "rowLimit": 10000
     },
     "inputWidgets": {},
     "nuid": "3759e322-3e33-40b5-a9a1-3e99d3195099",
     "showTitle": false,
     "tableResultSettingsMap": {},
     "title": ""
    }
   },
   "outputs": [],
   "source": [
    "-- INSIGHT 1: Relação HDI x Taxa de Suicídio (Paradoxo Nórdico?)\n",
    "-- Pergunta: Países com HDI alto têm taxas maiores de suicídio?\n",
    "-- ============================================================================\n",
    "SELECT \n",
    "    hdi_category AS categoria_idh,\n",
    "    ROUND(AVG(suicide_rate), 2) AS taxa_media_suicidio,\n",
    "    ROUND(STDDEV(suicide_rate), 2) AS desvio_padrao,\n",
    "    COUNT(DISTINCT country_code) AS numero_paises,\n",
    "    ROUND(MIN(suicide_rate), 2) AS taxa_minima,\n",
    "    ROUND(MAX(suicide_rate), 2) AS taxa_maxima\n",
    "FROM gold.data_suicide.suicide_hdi_analysis\n",
    "WHERE year >= 2015  -- Últimos anos\n",
    "GROUP BY hdi_category\n",
    "ORDER BY taxa_media_suicidio DESC;"
   ]
  },
  {
   "cell_type": "code",
   "execution_count": 0,
   "metadata": {
    "application/vnd.databricks.v1+cell": {
     "cellMetadata": {
      "byteLimit": 2048000,
      "rowLimit": 10000
     },
     "inputWidgets": {},
     "nuid": "5829b4fb-e959-4e36-91a3-f0f49133a67e",
     "showTitle": false,
     "tableResultSettingsMap": {},
     "title": ""
    }
   },
   "outputs": [
    {
     "output_type": "display_data",
     "data": {
      "text/plain": [
       "Databricks visualization. Run in Databricks to view."
      ]
     },
     "metadata": {
      "application/vnd.databricks.v1.subcommand+json": {
       "baseErrorDetails": null,
       "bindings": {},
       "collapsed": false,
       "command": "%sql WITH q AS (WITH ultimo_ano AS (\n    SELECT MAX(year) AS ano_maximo\n    FROM gold.data_suicide.suicide_hdi_analysis\n),\nmudancas_recentes AS (\n    SELECT \n        country_name AS pais,\n        region AS regiao,\n        hdi_category AS categoria_idh,\n        year AS ano,\n        suicide_rate AS taxa_suicidio,\n        LAG(suicide_rate, 5) OVER (PARTITION BY country_code ORDER BY year) AS taxa_5_anos_atras,\n        try_divide(\n            suicide_rate - LAG(suicide_rate, 5) OVER (PARTITION BY country_code ORDER BY year),\n            LAG(suicide_rate, 5) OVER (PARTITION BY country_code ORDER BY year)\n        ) * 100 AS mudanca_percentual_5anos\n    FROM gold.data_suicide.suicide_hdi_analysis\n)\nSELECT \n    pais,\n    regiao,\n    categoria_idh,\n    ROUND(taxa_5_anos_atras, 2) AS taxa_ha_5_anos,\n    ROUND(taxa_suicidio, 2) AS taxa_atual,\n    ROUND(mudanca_percentual_5anos, 2) AS mudanca_percentual\nFROM mudancas_recentes\nCROSS JOIN ultimo_ano\nWHERE ano = ano_maximo\n  AND taxa_5_anos_atras IS NOT NULL\nORDER BY mudanca_percentual_5anos DESC\nLIMIT 10) SELECT `pais`,PERCENTILE(`mudanca_percentual`,0.5) `column_202052a6359` FROM q GROUP BY `pais`",
       "commandTitle": "Visualization 1",
       "commandType": "auto",
       "commandVersion": 0,
       "commentThread": [],
       "commentsVisible": false,
       "contentSha256Hex": null,
       "customPlotOptions": {
        "redashChart": [
         {
          "key": "type",
          "value": "CHART"
         },
         {
          "key": "options",
          "value": {
           "alignYAxesAtZero": true,
           "coefficient": 1,
           "columnConfigurationMap": {
            "x": {
             "column": "pais",
             "id": "column_202052a6357"
            },
            "y": [
             {
              "column": "mudanca_percentual",
              "id": "column_202052a6359",
              "transform": "MEDIAN"
             }
            ]
           },
           "dateTimeFormat": "DD/MM/YYYY HH:mm",
           "direction": {
            "type": "counterclockwise"
           },
           "error_y": {
            "type": "data",
            "visible": true
           },
           "globalSeriesType": "column",
           "isAggregationOn": true,
           "legend": {
            "traceorder": "normal"
           },
           "missingValuesAsZero": true,
           "numberFormat": "0,0.[00000]",
           "percentFormat": "0[.]00%",
           "reverseX": false,
           "series": {
            "error_y": {
             "type": "data",
             "visible": true
            },
            "stacking": null
           },
           "seriesOptions": {
            "column_202052a6359": {
             "color": "#8BCAE7",
             "type": "column",
             "yAxis": 0
            }
           },
           "showDataLabels": false,
           "sizemode": "diameter",
           "sortX": false,
           "sortY": true,
           "swappedAxes": false,
           "textFormat": "",
           "useAggregationsUi": true,
           "valuesOptions": {},
           "version": 2,
           "xAxis": {
            "labels": {
             "enabled": true
            },
            "type": "-"
           },
           "yAxis": [
            {
             "type": "-"
            },
            {
             "opposite": true,
             "type": "-"
            }
           ]
          }
         }
        ]
       },
       "datasetPreviewNameToCmdIdMap": {},
       "diffDeletes": [],
       "diffInserts": [],
       "displayType": "redashChart",
       "error": null,
       "errorDetails": null,
       "errorSummary": null,
       "errorTraceType": null,
       "finishTime": 0,
       "globalVars": {},
       "guid": "",
       "height": "auto",
       "hideCommandCode": false,
       "hideCommandResult": false,
       "iPythonMetadata": null,
       "inputWidgets": {},
       "isLockedInExamMode": false,
       "latestAssumeRoleInfo": null,
       "latestUser": "a user",
       "latestUserId": null,
       "listResultMetadata": null,
       "metadata": {
        "byteLimit": 2048000,
        "rowLimit": 10000
       },
       "nuid": "17f6da0b-61e0-4028-a1b9-8fcf8a7060ce",
       "origId": 0,
       "parentHierarchy": [],
       "pivotAggregation": null,
       "pivotColumns": null,
       "position": 1.75,
       "resultDbfsErrorMessage": null,
       "resultDbfsStatus": "INLINED_IN_TREE",
       "results": null,
       "showCommandTitle": false,
       "startTime": 0,
       "state": "input",
       "streamStates": {},
       "subcommandOptions": {
        "queryPlan": {
         "groups": [
          {
           "column": "pais",
           "type": "column"
          }
         ],
         "selects": [
          {
           "column": "pais",
           "type": "column"
          },
          {
           "alias": "column_202052a6359",
           "args": [
            {
             "column": "mudanca_percentual",
             "type": "column"
            },
            {
             "number": 0.5,
             "type": "number"
            }
           ],
           "function": "PERCENTILE",
           "type": "function"
          }
         ]
        }
       },
       "submitTime": 0,
       "subtype": "tableResultSubCmd.visualization",
       "tableResultIndex": 0,
       "tableResultSettingsMap": {},
       "useConsistentColors": false,
       "version": "CommandV1",
       "width": "auto",
       "workflows": null,
       "xColumns": null,
       "yColumns": null
      }
     },
     "output_type": "display_data"
    }
   ],
   "source": [
    "WITH ultimo_ano AS (\n",
    "    SELECT MAX(year) AS ano_maximo\n",
    "    FROM gold.data_suicide.suicide_hdi_analysis\n",
    "),\n",
    "mudancas_recentes AS (\n",
    "    SELECT \n",
    "        country_name AS pais,\n",
    "        region AS regiao,\n",
    "        hdi_category AS categoria_idh,\n",
    "        year AS ano,\n",
    "        suicide_rate AS taxa_suicidio,\n",
    "        LAG(suicide_rate, 5) OVER (PARTITION BY country_code ORDER BY year) AS taxa_5_anos_atras,\n",
    "        try_divide(\n",
    "            suicide_rate - LAG(suicide_rate, 5) OVER (PARTITION BY country_code ORDER BY year),\n",
    "            LAG(suicide_rate, 5) OVER (PARTITION BY country_code ORDER BY year)\n",
    "        ) * 100 AS mudanca_percentual_5anos\n",
    "    FROM gold.data_suicide.suicide_hdi_analysis\n",
    ")\n",
    "SELECT \n",
    "    pais,\n",
    "    regiao,\n",
    "    categoria_idh,\n",
    "    ROUND(taxa_5_anos_atras, 2) AS taxa_ha_5_anos,\n",
    "    ROUND(taxa_suicidio, 2) AS taxa_atual,\n",
    "    ROUND(mudanca_percentual_5anos, 2) AS mudanca_percentual\n",
    "FROM mudancas_recentes\n",
    "CROSS JOIN ultimo_ano\n",
    "WHERE ano = ano_maximo\n",
    "  AND taxa_5_anos_atras IS NOT NULL\n",
    "ORDER BY mudanca_percentual_5anos DESC\n",
    "LIMIT 10;"
   ]
  },
  {
   "cell_type": "code",
   "execution_count": 0,
   "metadata": {
    "application/vnd.databricks.v1+cell": {
     "cellMetadata": {
      "byteLimit": 2048000,
      "rowLimit": 10000
     },
     "inputWidgets": {},
     "nuid": "65df162d-7b70-4c67-afb7-37047c2a29f8",
     "showTitle": false,
     "tableResultSettingsMap": {},
     "title": ""
    }
   },
   "outputs": [],
   "source": [
    "-- INSIGHT 3: Disparidade de Gênero - Países com maior diferença\n",
    "-- ============================================================================\n",
    "SELECT \n",
    "    country_name AS pais,\n",
    "    year AS ano,\n",
    "    ROUND(male_rate, 2) AS taxa_masculina,\n",
    "    ROUND(female_rate, 2) AS taxa_feminina,\n",
    "    ROUND(gender_ratio, 2) AS razao_masculino_feminino,\n",
    "    ROUND(gender_gap, 2) AS diferenca_absoluta,\n",
    "    gap_category AS categoria_diferenca,\n",
    "    ROUND(hdi, 3) AS idh\n",
    "FROM gold.data_suicide.gender_disparity_analysis\n",
    "WHERE year = (SELECT MAX(year) FROM gold.data_suicide.gender_disparity_analysis)\n",
    "ORDER BY razao_masculino_feminino DESC\n",
    "LIMIT 20;"
   ]
  },
  {
   "cell_type": "code",
   "execution_count": 0,
   "metadata": {
    "application/vnd.databricks.v1+cell": {
     "cellMetadata": {
      "byteLimit": 2048000,
      "rowLimit": 10000
     },
     "inputWidgets": {},
     "nuid": "8ab00158-673f-4fd0-8b1c-26ce924d8f7f",
     "showTitle": false,
     "tableResultSettingsMap": {},
     "title": ""
    }
   },
   "outputs": [],
   "source": [
    "-- INSIGHT 4: Evolução das taxas por região ao longo do tempo\n",
    "-- ============================================================================\n",
    "SELECT \n",
    "    region AS regiao,\n",
    "    year AS ano,\n",
    "    ROUND(AVG(suicide_rate), 2) AS taxa_media_regional,\n",
    "    COUNT(DISTINCT country_code) AS paises_reportando,\n",
    "    ROUND(MIN(suicide_rate), 2) AS minima_na_regiao,\n",
    "    ROUND(MAX(suicide_rate), 2) AS maxima_na_regiao\n",
    "FROM gold.data_suicide.suicide_hdi_analysis\n",
    "GROUP BY region, year\n",
    "ORDER BY region, year;"
   ]
  },
  {
   "cell_type": "code",
   "execution_count": 0,
   "metadata": {
    "application/vnd.databricks.v1+cell": {
     "cellMetadata": {
      "byteLimit": 2048000,
      "rowLimit": 10000
     },
     "inputWidgets": {},
     "nuid": "c9871de5-bd20-4472-ad3c-b9e840d13fca",
     "showTitle": false,
     "tableResultSettingsMap": {},
     "title": ""
    }
   },
   "outputs": [],
   "source": [
    "-- INSIGHT 5: Países que conseguiram reduzir significativamente (Casos de Sucesso)\n",
    "-- ============================================================================\n",
    "WITH analise_tendencia AS (\n",
    "    SELECT \n",
    "        country_code AS codigo_pais,\n",
    "        country_name AS pais,\n",
    "        region AS regiao,\n",
    "        MIN(year) AS primeiro_ano,\n",
    "        MAX(year) AS ultimo_ano,\n",
    "        FIRST_VALUE(suicide_rate) OVER (\n",
    "            PARTITION BY country_code \n",
    "            ORDER BY year ASC \n",
    "            ROWS BETWEEN UNBOUNDED PRECEDING AND UNBOUNDED FOLLOWING\n",
    "        ) AS taxa_inicial,\n",
    "        LAST_VALUE(suicide_rate) OVER (\n",
    "            PARTITION BY country_code \n",
    "            ORDER BY year ASC \n",
    "            ROWS BETWEEN UNBOUNDED PRECEDING AND UNBOUNDED FOLLOWING\n",
    "        ) AS taxa_final,\n",
    "        ROUND(AVG(hdi), 3) AS idh_medio\n",
    "    FROM gold.data_suicide.suicide_hdi_analysis\n",
    "    WHERE year >= 2000\n",
    "    GROUP BY country_code, country_name, region, suicide_rate, year, hdi\n",
    ")\n",
    "SELECT DISTINCT\n",
    "    pais,\n",
    "    regiao,\n",
    "    primeiro_ano,\n",
    "    ultimo_ano,\n",
    "    ROUND(taxa_inicial, 2) AS taxa_no_inicio,\n",
    "    ROUND(taxa_final, 2) AS taxa_no_fim,\n",
    "    ROUND(((taxa_final - taxa_inicial) / taxa_inicial * 100), 2) AS reducao_percentual,\n",
    "    idh_medio\n",
    "FROM analise_tendencia\n",
    "WHERE taxa_inicial > taxa_final\n",
    "  AND ((taxa_inicial - taxa_final) / taxa_inicial) > 0.3  -- Redução de +30%\n",
    "  AND (ultimo_ano - primeiro_ano) >= 10  -- Pelo menos 10 anos de dados\n",
    "ORDER BY reducao_percentual ASC\n",
    "LIMIT 15;"
   ]
  },
  {
   "cell_type": "code",
   "execution_count": 0,
   "metadata": {
    "application/vnd.databricks.v1+cell": {
     "cellMetadata": {
      "byteLimit": 2048000,
      "rowLimit": 10000
     },
     "inputWidgets": {},
     "nuid": "b2aa8bc1-5bb5-4dbb-8af4-efcbcf69d3d5",
     "showTitle": false,
     "tableResultSettingsMap": {
      "0": {
       "dataGridStateBlob": "{\"version\":1,\"tableState\":{\"columnPinning\":{\"left\":[\"#row_number#\"],\"right\":[]},\"columnSizing\":{},\"columnVisibility\":{}},\"settings\":{\"columns\":{}},\"syncTimestamp\":1760883104003}",
       "filterBlob": null,
       "queryPlanFiltersBlob": null,
       "tableResultIndex": 0
      }
     },
     "title": ""
    }
   },
   "outputs": [],
   "source": [
    "-- INSIGHT 6: Alertas críticos - Países que precisam de atenção\n",
    "-- ============================================================================\n",
    "SELECT \n",
    "    country_name AS pais,\n",
    "    year AS ano,\n",
    "    ROUND(suicide_rate, 2) AS taxa_atual,\n",
    "    ROUND(rate_change_pct, 2) AS mudanca_1_ano_pct,\n",
    "    ROUND(change_5y_pct, 2) AS mudanca_5_anos_pct,\n",
    "    alert_type AS tipo_alerta,\n",
    "    ROUND(hdi, 3) AS idh\n",
    "FROM gold.data_suicide.significant_changes_alerts\n",
    "WHERE year >= 2015\n",
    "ORDER BY ABS(mudanca_1_ano_pct) DESC;"
   ]
  },
  {
   "cell_type": "code",
   "execution_count": 0,
   "metadata": {
    "application/vnd.databricks.v1+cell": {
     "cellMetadata": {
      "byteLimit": 2048000,
      "rowLimit": 10000
     },
     "inputWidgets": {},
     "nuid": "f1944595-fd84-4aea-affc-9e99e580ef3b",
     "showTitle": false,
     "tableResultSettingsMap": {},
     "title": ""
    }
   },
   "outputs": [],
   "source": [
    "-- INSIGHT 7: Performance por década - Evolução global\n",
    "-- ============================================================================\n",
    "SELECT \n",
    "    decade AS decada,\n",
    "    ROUND(AVG(suicide_rate), 2) AS taxa_media,\n",
    "    COUNT(DISTINCT country_code) AS numero_paises,\n",
    "    ROUND(AVG(hdi), 3) AS idh_global_medio,\n",
    "    ROUND(STDDEV(suicide_rate), 2) AS desvio_padrao\n",
    "FROM gold.data_suicide.suicide_hdi_analysis\n",
    "GROUP BY decade\n",
    "ORDER BY decade;"
   ]
  },
  {
   "cell_type": "code",
   "execution_count": 0,
   "metadata": {
    "application/vnd.databricks.v1+cell": {
     "cellMetadata": {
      "byteLimit": 2048000,
      "rowLimit": 10000
     },
     "inputWidgets": {},
     "nuid": "b9452e82-051d-47dd-893e-8b7a01496451",
     "showTitle": false,
     "tableResultSettingsMap": {},
     "title": ""
    }
   },
   "outputs": [],
   "source": [
    "-- INSIGHT 8: Correlação entre taxa de suicídio e HDI (análise estatística)\n",
    "-- ============================================================================\n",
    "SELECT \n",
    "    hdi_category AS categoria_idh,\n",
    "    year AS ano,\n",
    "    ROUND(AVG(suicide_rate), 2) AS taxa_media,\n",
    "    ROUND(PERCENTILE_CONT(0.5) WITHIN GROUP (ORDER BY suicide_rate), 2) AS mediana,\n",
    "    ROUND(PERCENTILE_CONT(0.25) WITHIN GROUP (ORDER BY suicide_rate), 2) AS percentil_25,\n",
    "    ROUND(PERCENTILE_CONT(0.75) WITHIN GROUP (ORDER BY suicide_rate), 2) AS percentil_75,\n",
    "    COUNT(*) AS observacoes\n",
    "FROM gold.data_suicide.suicide_hdi_analysis\n",
    "WHERE year >= 2010\n",
    "GROUP BY hdi_category, year\n",
    "ORDER BY year DESC, hdi_category;"
   ]
  },
  {
   "cell_type": "code",
   "execution_count": 0,
   "metadata": {
    "application/vnd.databricks.v1+cell": {
     "cellMetadata": {
      "byteLimit": 2048000,
      "rowLimit": 10000
     },
     "inputWidgets": {},
     "nuid": "ee754f41-5aaa-49e5-99ee-7ff2bf85d57f",
     "showTitle": false,
     "tableResultSettingsMap": {},
     "title": ""
    }
   },
   "outputs": [],
   "source": [
    "-- INSIGHT 9: Rankings - Piores e Melhores países (últimos dados disponíveis)\n",
    "-- ============================================================================\n",
    "WITH ranking_recente AS (\n",
    "    SELECT *\n",
    "    FROM gold.data_suicide.country_rankings\n",
    "    WHERE year = (SELECT MAX(year) FROM gold.data_suicide.country_rankings)\n",
    ")\n",
    "(\n",
    "    -- TOP 10 PIORES\n",
    "    SELECT \n",
    "        'Maiores Taxas' AS categoria,\n",
    "        country_name AS pais,\n",
    "        region AS regiao,\n",
    "        ROUND(suicide_rate, 2) AS taxa,\n",
    "        rank_global AS ranking_global,\n",
    "        rank_in_region AS ranking_regional\n",
    "    FROM ranking_recente\n",
    "    ORDER BY suicide_rate DESC\n",
    "    LIMIT 10\n",
    ")\n",
    "UNION ALL\n",
    "(\n",
    "    -- TOP 10 MELHORES\n",
    "    SELECT \n",
    "        'Menores Taxas' AS categoria,\n",
    "        country_name AS pais,\n",
    "        region AS regiao,\n",
    "        ROUND(suicide_rate, 2) AS taxa,\n",
    "        rank_global AS ranking_global,\n",
    "        rank_in_region AS ranking_regional\n",
    "    FROM ranking_recente\n",
    "    ORDER BY suicide_rate ASC\n",
    "    LIMIT 10\n",
    ")\n",
    "ORDER BY categoria DESC, taxa DESC;"
   ]
  },
  {
   "cell_type": "code",
   "execution_count": 0,
   "metadata": {
    "application/vnd.databricks.v1+cell": {
     "cellMetadata": {
      "byteLimit": 2048000,
      "rowLimit": 10000
     },
     "inputWidgets": {},
     "nuid": "148b1534-86ce-49ac-9dae-b43046f679af",
     "showTitle": false,
     "tableResultSettingsMap": {},
     "title": ""
    }
   },
   "outputs": [],
   "source": [
    "-- INSIGHT 10: Países acima/abaixo da média regional\n",
    "-- ============================================================================\n",
    "SELECT \n",
    "    country_name AS pais,\n",
    "    region AS regiao,\n",
    "    ROUND(suicide_rate, 2) AS taxa_pais,\n",
    "    ROUND(regional_avg_rate, 2) AS media_regional,\n",
    "    ROUND(vs_regional_avg, 2) AS diferenca_da_media,\n",
    "    CASE \n",
    "        WHEN vs_regional_avg > 5 THEN 'Muito Acima da Média'\n",
    "        WHEN vs_regional_avg > 0 THEN 'Acima da Média'\n",
    "        WHEN vs_regional_avg > -5 THEN 'Abaixo da Média'\n",
    "        ELSE 'Muito Abaixo da Média'\n",
    "    END AS categoria_performance\n",
    "FROM gold.data_suicide.country_rankings\n",
    "WHERE year = (SELECT MAX(year) FROM gold.data_suicide.country_rankings)\n",
    "  AND ABS(vs_regional_avg) > 3  -- Diferença significativa\n",
    "ORDER BY ABS(diferenca_da_media) DESC\n",
    "LIMIT 30;"
   ]
  },
  {
   "cell_type": "code",
   "execution_count": 0,
   "metadata": {
    "application/vnd.databricks.v1+cell": {
     "cellMetadata": {
      "byteLimit": 2048000,
      "rowLimit": 10000
     },
     "inputWidgets": {},
     "nuid": "8d3d4f44-8188-4e8f-89ea-61ad62b0a0c8",
     "showTitle": false,
     "tableResultSettingsMap": {},
     "title": ""
    }
   },
   "outputs": [
    {
     "output_type": "display_data",
     "data": {
      "text/plain": [
       "Databricks visualization. Run in Databricks to view."
      ]
     },
     "metadata": {
      "application/vnd.databricks.v1.subcommand+json": {
       "baseErrorDetails": null,
       "bindings": {},
       "collapsed": false,
       "command": "%sql WITH q AS (SELECT \n    year AS ano,\n    ROUND(suicide_rate, 2) AS taxa_brasil,\n    ROUND(regional_avg_rate, 2) AS media_americas,\n    ROUND(vs_regional_avg, 2) AS brasil_vs_media,\n    rank_in_region AS ranking_regional,\n    rank_global AS ranking_global\nFROM gold.data_suicide.country_rankings\nWHERE country_code = 'BRA'\nORDER BY year) SELECT `ano`,PERCENTILE(`taxa_brasil`,0.5) `column_202052a6402`,PERCENTILE(`media_americas`,0.5) `column_202052a6405`,STDDEV(`ano`) `column_202052a6399` FROM q GROUP BY `ano`",
       "commandTitle": "Visualization 1",
       "commandType": "auto",
       "commandVersion": 0,
       "commentThread": [],
       "commentsVisible": false,
       "contentSha256Hex": null,
       "customPlotOptions": {
        "redashChart": [
         {
          "key": "type",
          "value": "CHART"
         },
         {
          "key": "options",
          "value": {
           "alignYAxesAtZero": true,
           "coefficient": 1,
           "columnConfigurationMap": {
            "x": {
             "column": "ano",
             "id": "column_202052a6396"
            },
            "y": [
             {
              "column": "taxa_brasil",
              "id": "column_202052a6402",
              "transform": "MEDIAN"
             },
             {
              "column": "media_americas",
              "id": "column_202052a6405",
              "transform": "MEDIAN"
             }
            ],
            "yError": {
             "column": "ano",
             "id": "column_202052a6399",
             "transform": "STDDEV"
            }
           },
           "dateTimeFormat": "DD/MM/YYYY HH:mm",
           "direction": {
            "type": "counterclockwise"
           },
           "error_y": {
            "type": "data",
            "visible": true
           },
           "globalSeriesType": "line",
           "isAggregationOn": true,
           "legend": {
            "traceorder": "normal"
           },
           "missingValuesAsZero": true,
           "numberFormat": "0,0.[00000]",
           "percentFormat": "0[.]00%",
           "series": {
            "error_y": {
             "type": "data",
             "visible": true
            },
            "stacking": null
           },
           "seriesOptions": {
            "column_202052a6402": {
             "type": "line",
             "yAxis": 0
            },
            "column_202052a6405": {
             "type": "line",
             "yAxis": 0
            }
           },
           "showDataLabels": false,
           "sizemode": "diameter",
           "sortX": true,
           "sortY": true,
           "swappedAxes": false,
           "textFormat": "",
           "useAggregationsUi": true,
           "valuesOptions": {},
           "version": 2,
           "xAxis": {
            "labels": {
             "enabled": true
            },
            "type": "-"
           },
           "yAxis": [
            {
             "type": "-"
            },
            {
             "opposite": true,
             "type": "-"
            }
           ]
          }
         }
        ]
       },
       "datasetPreviewNameToCmdIdMap": {},
       "diffDeletes": [],
       "diffInserts": [],
       "displayType": "redashChart",
       "error": null,
       "errorDetails": null,
       "errorSummary": null,
       "errorTraceType": null,
       "finishTime": 0,
       "globalVars": {},
       "guid": "",
       "height": "auto",
       "hideCommandCode": false,
       "hideCommandResult": false,
       "iPythonMetadata": null,
       "inputWidgets": {},
       "isLockedInExamMode": false,
       "latestAssumeRoleInfo": null,
       "latestUser": "a user",
       "latestUserId": null,
       "listResultMetadata": null,
       "metadata": {
        "byteLimit": 2048000,
        "rowLimit": 10000
       },
       "nuid": "350ae985-211c-4faf-a0f7-5a4e8ab6980b",
       "origId": 0,
       "parentHierarchy": [],
       "pivotAggregation": null,
       "pivotColumns": null,
       "position": 1.99951171875,
       "resultDbfsErrorMessage": null,
       "resultDbfsStatus": "INLINED_IN_TREE",
       "results": null,
       "showCommandTitle": false,
       "startTime": 0,
       "state": "input",
       "streamStates": {},
       "subcommandOptions": {
        "queryPlan": {
         "groups": [
          {
           "column": "ano",
           "type": "column"
          }
         ],
         "selects": [
          {
           "column": "ano",
           "type": "column"
          },
          {
           "alias": "column_202052a6402",
           "args": [
            {
             "column": "taxa_brasil",
             "type": "column"
            },
            {
             "number": 0.5,
             "type": "number"
            }
           ],
           "function": "PERCENTILE",
           "type": "function"
          },
          {
           "alias": "column_202052a6405",
           "args": [
            {
             "column": "media_americas",
             "type": "column"
            },
            {
             "number": 0.5,
             "type": "number"
            }
           ],
           "function": "PERCENTILE",
           "type": "function"
          },
          {
           "alias": "column_202052a6399",
           "args": [
            {
             "column": "ano",
             "type": "column"
            }
           ],
           "function": "STDDEV",
           "type": "function"
          }
         ]
        }
       },
       "submitTime": 0,
       "subtype": "tableResultSubCmd.visualization",
       "tableResultIndex": 0,
       "tableResultSettingsMap": {},
       "useConsistentColors": false,
       "version": "CommandV1",
       "width": "auto",
       "workflows": null,
       "xColumns": null,
       "yColumns": null
      }
     },
     "output_type": "display_data"
    }
   ],
   "source": [
    "-- INSIGHT BRASIL 1: Evolução histórica do Brasil\n",
    "-- ============================================================================\n",
    "SELECT \n",
    "    year AS ano,\n",
    "    ROUND(suicide_rate, 2) AS taxa_brasil,\n",
    "    ROUND(regional_avg_rate, 2) AS media_americas,\n",
    "    ROUND(vs_regional_avg, 2) AS brasil_vs_media,\n",
    "    rank_in_region AS ranking_regional,\n",
    "    rank_global AS ranking_global\n",
    "FROM gold.data_suicide.country_rankings\n",
    "WHERE country_code = 'BRA'\n",
    "ORDER BY year;"
   ]
  },
  {
   "cell_type": "code",
   "execution_count": 0,
   "metadata": {
    "application/vnd.databricks.v1+cell": {
     "cellMetadata": {
      "byteLimit": 2048000,
      "rowLimit": 10000
     },
     "inputWidgets": {},
     "nuid": "773775b3-1dc6-40b5-a66a-ff5f28cc114e",
     "showTitle": false,
     "tableResultSettingsMap": {},
     "title": ""
    }
   },
   "outputs": [],
   "source": [
    "-- INSIGHT BRASIL 2: Disparidade de gênero no Brasil\n",
    "-- ============================================================================\n",
    "SELECT \n",
    "    year AS ano,\n",
    "    ROUND(male_rate, 2) AS taxa_masculina,\n",
    "    ROUND(female_rate, 2) AS taxa_feminina,\n",
    "    ROUND(gender_ratio, 2) AS razao_m_f,\n",
    "    ROUND(gender_gap, 2) AS diferenca_absoluta,\n",
    "    gap_category AS categoria_diferenca,\n",
    "    ROUND(hdi, 3) AS idh_brasil\n",
    "FROM gold.data_suicide.gender_disparity_analysis\n",
    "WHERE country_code = 'BRA'\n",
    "ORDER BY year;"
   ]
  },
  {
   "cell_type": "code",
   "execution_count": 0,
   "metadata": {
    "application/vnd.databricks.v1+cell": {
     "cellMetadata": {
      "byteLimit": 2048000,
      "rowLimit": 10000
     },
     "inputWidgets": {},
     "nuid": "cd2d2f77-ca19-4847-a761-2a154fc07ed8",
     "showTitle": false,
     "tableResultSettingsMap": {},
     "title": ""
    }
   },
   "outputs": [],
   "source": [
    "-- INSIGHT BRASIL 3: Brasil comparado com países BRICS\n",
    "-- ============================================================================\n",
    "SELECT \n",
    "    country_name AS pais,\n",
    "    year AS ano,\n",
    "    ROUND(suicide_rate, 2) AS taxa_suicidio,\n",
    "    ROUND(hdi, 3) AS idh,\n",
    "    hdi_category AS categoria_idh,\n",
    "    trend AS tendencia\n",
    "FROM gold.data_suicide.suicide_hdi_analysis\n",
    "WHERE country_code IN ('BRA', 'CHN', 'IND', 'RUS', 'ZAF')  -- BRICS\n",
    "  AND year >= 2010\n",
    "ORDER BY year DESC, taxa_suicidio DESC;"
   ]
  },
  {
   "cell_type": "code",
   "execution_count": 0,
   "metadata": {
    "application/vnd.databricks.v1+cell": {
     "cellMetadata": {
      "byteLimit": 2048000,
      "rowLimit": 10000
     },
     "inputWidgets": {},
     "nuid": "9bf41f60-847f-407d-907d-a1860c1a45d8",
     "showTitle": false,
     "tableResultSettingsMap": {
      "0": {
       "dataGridStateBlob": "{\"version\":1,\"tableState\":{\"columnPinning\":{\"left\":[\"#row_number#\"],\"right\":[]},\"columnSizing\":{},\"columnVisibility\":{}},\"settings\":{\"columns\":{}},\"syncTimestamp\":1760883819836}",
       "filterBlob": null,
       "queryPlanFiltersBlob": null,
       "tableResultIndex": 0
      }
     },
     "title": ""
    }
   },
   "outputs": [
    {
     "output_type": "display_data",
     "data": {
      "text/plain": [
       "Databricks visualization. Run in Databricks to view."
      ]
     },
     "metadata": {
      "application/vnd.databricks.v1.subcommand+json": {
       "baseErrorDetails": null,
       "bindings": {},
       "collapsed": false,
       "command": "%sql WITH q AS (WITH america_latina AS (\n    SELECT country_code\n    FROM gold.data_suicide.suicide_hdi_analysis\n    WHERE region LIKE '%America%'\n      AND country_code IN ('BRA', 'ARG', 'CHL', 'COL', 'MEX', 'PER', 'URY')\n    GROUP BY country_code\n),\ndados_latam AS (\n    SELECT \n        s.country_name AS pais,\n        s.year AS ano,\n        ROUND(s.suicide_rate, 2) AS taxa_suicidio,\n        ROUND(s.hdi, 3) AS idh,\n        s.trend AS tendencia,\n        RANK() OVER (\n            PARTITION BY s.year\n            ORDER BY s.suicide_rate DESC\n        ) AS ranking_regional\n    FROM gold.data_suicide.suicide_hdi_analysis s\n    INNER JOIN america_latina al ON s.country_code = al.country_code\n    WHERE s.year >= 2015\n)\nSELECT *\nFROM dados_latam\nORDER BY ano DESC, taxa_suicidio DESC) SELECT `ano`,PERCENTILE(`taxa_suicidio`,0.5) `column_202052a6425`,`pais` FROM q GROUP BY `ano`,`pais`",
       "commandTitle": "Visualization 1",
       "commandType": "auto",
       "commandVersion": 0,
       "commentThread": [],
       "commentsVisible": false,
       "contentSha256Hex": null,
       "customPlotOptions": {
        "redashChart": [
         {
          "key": "type",
          "value": "CHART"
         },
         {
          "key": "options",
          "value": {
           "alignYAxesAtZero": true,
           "coefficient": 1,
           "columnConfigurationMap": {
            "series": {
             "column": "pais",
             "id": "column_202052a6427"
            },
            "x": {
             "column": "ano",
             "id": "column_202052a6423"
            },
            "y": [
             {
              "column": "taxa_suicidio",
              "id": "column_202052a6425",
              "transform": "MEDIAN"
             }
            ]
           },
           "dateTimeFormat": "DD/MM/YYYY HH:mm",
           "direction": {
            "type": "counterclockwise"
           },
           "error_y": {
            "type": "data",
            "visible": true
           },
           "globalSeriesType": "line",
           "isAggregationOn": true,
           "legend": {
            "traceorder": "normal"
           },
           "missingValuesAsZero": true,
           "numberFormat": "0,0.[00000]",
           "percentFormat": "0[.]00%",
           "series": {
            "error_y": {
             "type": "data",
             "visible": true
            },
            "stacking": null
           },
           "seriesOptions": {
            "column_202052a6425": {
             "type": "line",
             "yAxis": 0
            }
           },
           "showDataLabels": false,
           "sizemode": "diameter",
           "sortX": true,
           "sortY": true,
           "swappedAxes": false,
           "textFormat": "",
           "useAggregationsUi": true,
           "valuesOptions": {},
           "version": 2,
           "xAxis": {
            "labels": {
             "enabled": true
            },
            "type": "-"
           },
           "yAxis": [
            {
             "type": "-"
            },
            {
             "opposite": true,
             "type": "-"
            }
           ]
          }
         }
        ]
       },
       "datasetPreviewNameToCmdIdMap": {},
       "diffDeletes": [],
       "diffInserts": [],
       "displayType": "redashChart",
       "error": null,
       "errorDetails": null,
       "errorSummary": null,
       "errorTraceType": null,
       "finishTime": 0,
       "globalVars": {},
       "guid": "",
       "height": "auto",
       "hideCommandCode": false,
       "hideCommandResult": false,
       "iPythonMetadata": null,
       "inputWidgets": {},
       "isLockedInExamMode": false,
       "latestAssumeRoleInfo": null,
       "latestUser": "a user",
       "latestUserId": null,
       "listResultMetadata": null,
       "metadata": {},
       "nuid": "5544c484-0afa-4b4a-a7c5-45cc23da7578",
       "origId": 0,
       "parentHierarchy": [],
       "pivotAggregation": null,
       "pivotColumns": null,
       "position": 1.99993896484375,
       "resultDbfsErrorMessage": null,
       "resultDbfsStatus": "INLINED_IN_TREE",
       "results": null,
       "showCommandTitle": false,
       "startTime": 0,
       "state": "input",
       "streamStates": {},
       "subcommandOptions": {
        "queryPlan": {
         "groups": [
          {
           "column": "ano",
           "type": "column"
          },
          {
           "column": "pais",
           "type": "column"
          }
         ],
         "selects": [
          {
           "column": "ano",
           "type": "column"
          },
          {
           "alias": "column_202052a6425",
           "args": [
            {
             "column": "taxa_suicidio",
             "type": "column"
            },
            {
             "number": 0.5,
             "type": "number"
            }
           ],
           "function": "PERCENTILE",
           "type": "function"
          },
          {
           "column": "pais",
           "type": "column"
          }
         ]
        }
       },
       "submitTime": 0,
       "subtype": "tableResultSubCmd.visualization",
       "tableResultIndex": 0,
       "tableResultSettingsMap": {},
       "useConsistentColors": false,
       "version": "CommandV1",
       "width": "auto",
       "workflows": null,
       "xColumns": null,
       "yColumns": null
      }
     },
     "output_type": "display_data"
    }
   ],
   "source": [
    "-- INSIGHT BRASIL 4: Brasil comparado com países da América Latina\n",
    "-- ============================================================================\n",
    "WITH america_latina AS (\n",
    "    SELECT country_code\n",
    "    FROM gold.data_suicide.suicide_hdi_analysis\n",
    "    WHERE region LIKE '%America%'\n",
    "      AND country_code IN ('BRA', 'ARG', 'CHL', 'COL', 'MEX', 'PER', 'URY')\n",
    "    GROUP BY country_code\n",
    "),\n",
    "dados_latam AS (\n",
    "    SELECT \n",
    "        s.country_name AS pais,\n",
    "        s.year AS ano,\n",
    "        ROUND(s.suicide_rate, 2) AS taxa_suicidio,\n",
    "        ROUND(s.hdi, 3) AS idh,\n",
    "        s.trend AS tendencia,\n",
    "        RANK() OVER (\n",
    "            PARTITION BY s.year\n",
    "            ORDER BY s.suicide_rate DESC\n",
    "        ) AS ranking_regional\n",
    "    FROM gold.data_suicide.suicide_hdi_analysis s\n",
    "    INNER JOIN america_latina al ON s.country_code = al.country_code\n",
    "    WHERE s.year >= 2015\n",
    ")\n",
    "SELECT *\n",
    "FROM dados_latam\n",
    "ORDER BY ano DESC, taxa_suicidio DESC;"
   ]
  },
  {
   "cell_type": "code",
   "execution_count": 0,
   "metadata": {
    "application/vnd.databricks.v1+cell": {
     "cellMetadata": {
      "byteLimit": 2048000,
      "rowLimit": 10000
     },
     "inputWidgets": {},
     "nuid": "435ada72-9a6f-4091-9b02-2c25f6472a70",
     "showTitle": false,
     "tableResultSettingsMap": {},
     "title": ""
    }
   },
   "outputs": [],
   "source": [
    "-- INSIGHT FUTURO 1: Correlação entre tratamento de drogas e taxa de suicídio\n",
    "-- (Descomentar quando silver.data_suicide.drug_indicators_wide estiver pronta)\n",
    "-- ============================================================================\n",
    "\n",
    "SELECT \n",
    "    s.country_name AS pais,\n",
    "    s.year AS ano,\n",
    "    ROUND(s.suicide_rate, 2) AS taxa_suicidio,\n",
    "    ROUND(d.treatment_coverage, 2) AS cobertura_tratamento,\n",
    "    ROUND(d.capacity_index, 2) AS indice_capacidade,\n",
    "    ROUND(s.hdi, 3) AS idh,\n",
    "    s.hdi_category AS categoria_idh\n",
    "FROM gold.data_suicide.suicide_hdi_analysis s\n",
    "INNER JOIN silver.data_suicide.drug_indicators_wide d\n",
    "    ON s.country_code = d.country_code\n",
    "    AND s.year = d.year\n",
    "WHERE d.treatment_coverage IS NOT NULL\n",
    "  AND s.year >= 2015\n",
    "ORDER BY s.year DESC, s.suicide_rate DESC;"
   ]
  },
  {
   "cell_type": "code",
   "execution_count": 0,
   "metadata": {
    "application/vnd.databricks.v1+cell": {
     "cellMetadata": {
      "byteLimit": 2048000,
      "rowLimit": 10000
     },
     "inputWidgets": {},
     "nuid": "1ab6359f-ddee-402c-8ed8-78b8ec74d0f9",
     "showTitle": false,
     "tableResultSettingsMap": {},
     "title": ""
    }
   },
   "outputs": [],
   "source": [
    "-- INSIGHT FUTURO 2: Países com alta capacidade de tratamento vs. taxa de suicídio\n",
    "-- ============================================================================\n",
    "\n",
    "SELECT \n",
    "    s.country_name AS pais,\n",
    "    ROUND(AVG(s.suicide_rate), 2) AS taxa_media_suicidio,\n",
    "    ROUND(AVG(d.capacity_index), 2) AS indice_capacidade_medio,\n",
    "    ROUND(AVG(d.treatment_coverage), 2) AS cobertura_media_tratamento,\n",
    "    ROUND(AVG(s.hdi), 3) AS idh_medio,\n",
    "    COUNT(*) AS anos_com_dados\n",
    "FROM gold.data_suicide.suicide_hdi_analysis s\n",
    "INNER JOIN silver.data_suicide.drug_indicators_wide d\n",
    "    ON s.country_code = d.country_code\n",
    "    AND s.year = d.year\n",
    "WHERE s.year >= 2010\n",
    "GROUP BY s.country_name\n",
    "HAVING COUNT(*) >= 5  -- Pelo menos 5 anos de dados\n",
    "ORDER BY taxa_media_suicidio DESC;\n"
   ]
  }
 ],
 "metadata": {
  "application/vnd.databricks.v1+notebook": {
   "computePreferences": null,
   "dashboards": [],
   "environmentMetadata": {
    "base_environment": "",
    "environment_version": "4"
   },
   "inputWidgetPreferences": null,
   "language": "sql",
   "notebookMetadata": {
    "pythonIndentUnit": 4
   },
   "notebookName": "Insights",
   "widgets": {}
  },
  "language_info": {
   "name": "sql"
  }
 },
 "nbformat": 4,
 "nbformat_minor": 0
}
