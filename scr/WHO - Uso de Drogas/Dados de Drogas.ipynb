{
 "cells": [
  {
   "cell_type": "code",
   "execution_count": 0,
   "metadata": {
    "application/vnd.databricks.v1+cell": {
     "cellMetadata": {
      "byteLimit": 2048000,
      "rowLimit": 10000
     },
     "inputWidgets": {},
     "nuid": "09004690-9e04-4c70-b2d4-ce99306b8ada",
     "showTitle": false,
     "tableResultSettingsMap": {},
     "title": ""
    }
   },
   "outputs": [],
   "source": [
    "import requests\n",
    "import pandas as pd\n",
    "from pyspark.sql import functions as F"
   ]
  },
  {
   "cell_type": "code",
   "execution_count": 0,
   "metadata": {
    "application/vnd.databricks.v1+cell": {
     "cellMetadata": {
      "byteLimit": 2048000,
      "rowLimit": 10000
     },
     "inputWidgets": {},
     "nuid": "2623932e-7a0f-46e7-87f1-c29f5f38bc8c",
     "showTitle": false,
     "tableResultSettingsMap": {},
     "title": ""
    }
   },
   "outputs": [],
   "source": [
    "ind_url = \"https://ghoapi.azureedge.net/api/Indicator\"\n",
    "ind_list = requests.get(ind_url, timeout=60).json()[\"value\"]\n",
    "\n",
    "cands = [\n",
    "    {\n",
    "        \"IndicatorCode\": i.get(\"IndicatorCode\"),\n",
    "        \"IndicatorName\": i.get(\"IndicatorName\"),\n",
    "        \"ShortName\": i.get(\"ShortName\", None)  \n",
    "    }\n",
    "    for i in ind_list\n",
    "    if \"drug\" in i.get(\"IndicatorName\",\"\").lower() \n",
    "    or \"substance\" in i.get(\"IndicatorName\",\"\").lower()\n",
    "]\n",
    "\n",
    "df_cands = pd.DataFrame(cands)\n",
    "print(df_cands.shape)"
   ]
  },
  {
   "cell_type": "code",
   "execution_count": 0,
   "metadata": {
    "application/vnd.databricks.v1+cell": {
     "cellMetadata": {
      "byteLimit": 2048000,
      "rowLimit": 10000
     },
     "inputWidgets": {},
     "nuid": "18474c30-1783-4d2d-b1f8-8a5c66478749",
     "showTitle": false,
     "tableResultSettingsMap": {},
     "title": ""
    }
   },
   "outputs": [],
   "source": [
    "display(df_cands)"
   ]
  }
 ],
 "metadata": {
  "application/vnd.databricks.v1+notebook": {
   "computePreferences": null,
   "dashboards": [],
   "environmentMetadata": {
    "base_environment": "",
    "environment_version": "3"
   },
   "inputWidgetPreferences": null,
   "language": "python",
   "notebookMetadata": {
    "pythonIndentUnit": 4
   },
   "notebookName": "Dados de Drogas",
   "widgets": {}
  },
  "language_info": {
   "name": "python"
  }
 },
 "nbformat": 4,
 "nbformat_minor": 0
}
