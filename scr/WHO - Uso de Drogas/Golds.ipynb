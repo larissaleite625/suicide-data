{
 "cells": [
  {
   "cell_type": "code",
   "execution_count": 0,
   "metadata": {
    "application/vnd.databricks.v1+cell": {
     "cellMetadata": {
      "byteLimit": 2048000,
      "rowLimit": 10000
     },
     "inputWidgets": {},
     "nuid": "a59ee3a3-e065-410f-aaf8-62c65b7712d7",
     "showTitle": false,
     "tableResultSettingsMap": {},
     "title": ""
    }
   },
   "outputs": [],
   "source": [
    "from pyspark.sql import functions as F\n",
    "from pyspark.sql.window import Window"
   ]
  },
  {
   "cell_type": "code",
   "execution_count": 0,
   "metadata": {
    "application/vnd.databricks.v1+cell": {
     "cellMetadata": {
      "byteLimit": 2048000,
      "rowLimit": 10000
     },
     "inputWidgets": {},
     "nuid": "eade417a-9b67-4418-9294-d39208ec4f99",
     "showTitle": false,
     "tableResultSettingsMap": {},
     "title": ""
    }
   },
   "outputs": [],
   "source": [
    "df_suicide = spark.table(\"silver.data_suicide.who_suicide_data\")\n",
    "df_hdi = spark.table(\"silver.data_suicide.hdi_owid\")"
   ]
  },
  {
   "cell_type": "code",
   "execution_count": 0,
   "metadata": {
    "application/vnd.databricks.v1+cell": {
     "cellMetadata": {
      "byteLimit": 2048000,
      "rowLimit": 10000
     },
     "inputWidgets": {},
     "nuid": "1bb55937-f63e-48f3-b3bd-df32a882bc9b",
     "showTitle": false,
     "tableResultSettingsMap": {},
     "title": ""
    }
   },
   "outputs": [],
   "source": [
    "gold_suicide_hdi = (\n",
    "    df_suicide\n",
    "    .filter(F.col(\"sex\") == \"both\")  # Total geral\n",
    "    .join(df_hdi, \n",
    "          (df_suicide.country_code == df_hdi.country_code_iso3) & \n",
    "          (df_suicide.year == df_hdi.year), \n",
    "          \"inner\")\n",
    "    .select(\n",
    "        df_suicide.country_code,\n",
    "        df_hdi.country_name,\n",
    "        df_suicide.region,\n",
    "        df_suicide.year,\n",
    "        df_suicide.rate_per_100k.alias(\"suicide_rate\"),\n",
    "        df_hdi.hdi,\n",
    "        F.when(df_hdi.hdi >= 0.8, \"Very High\")\n",
    "         .when(df_hdi.hdi >= 0.7, \"High\")\n",
    "         .when(df_hdi.hdi >= 0.55, \"Medium\")\n",
    "         .otherwise(\"Low\").alias(\"hdi_category\")\n",
    "    )\n",
    "    .withColumn(\"decade\", (F.col(\"year\") / 10).cast(\"int\") * 10)\n",
    ")\n"
   ]
  },
  {
   "cell_type": "code",
   "execution_count": 0,
   "metadata": {
    "application/vnd.databricks.v1+cell": {
     "cellMetadata": {
      "byteLimit": 2048000,
      "rowLimit": 10000
     },
     "inputWidgets": {},
     "nuid": "b313b283-e309-4619-9e88-f0ed9ba747c0",
     "showTitle": false,
     "tableResultSettingsMap": {},
     "title": ""
    }
   },
   "outputs": [],
   "source": [
    "from pyspark.sql import functions as F\n",
    "from pyspark.sql.window import Window\n",
    "\n",
    "window_country = Window.partitionBy(\"country_code\").orderBy(\"year\")\n",
    "gold_suicide_hdi = (\n",
    "    gold_suicide_hdi\n",
    "    .withColumn(\"prev_year_rate\", F.lag(\"suicide_rate\").over(window_country))\n",
    "    .withColumn(\n",
    "        \"rate_change_pct\",\n",
    "        F.when(\n",
    "            (F.col(\"prev_year_rate\").isNotNull()) & (F.col(\"prev_year_rate\") != 0),\n",
    "            (F.col(\"suicide_rate\") - F.col(\"prev_year_rate\")) / F.col(\"prev_year_rate\") * 100\n",
    "        ).otherwise(F.lit(None))\n",
    "    )\n",
    "    .withColumn(\n",
    "        \"trend\",\n",
    "        F.when(F.col(\"rate_change_pct\") > 5, \"Increasing\")\n",
    "         .when(F.col(\"rate_change_pct\") < -5, \"Decreasing\")\n",
    "         .otherwise(\"Stable\")\n",
    "    )\n",
    ")\n",
    "\n",
    "spark.sql(\"CREATE SCHEMA IF NOT EXISTS gold.data_suicide\")\n",
    "(\n",
    "    gold_suicide_hdi.write\n",
    "    .mode(\"overwrite\")\n",
    "    .saveAsTable(\"gold.data_suicide.suicide_hdi_analysis\")\n",
    ")"
   ]
  },
  {
   "cell_type": "code",
   "execution_count": 0,
   "metadata": {
    "application/vnd.databricks.v1+cell": {
     "cellMetadata": {
      "byteLimit": 2048000,
      "rowLimit": 10000
     },
     "inputWidgets": {},
     "nuid": "7735ca20-f523-471c-96c9-14945b4103e0",
     "showTitle": false,
     "tableResultSettingsMap": {},
     "title": ""
    }
   },
   "outputs": [],
   "source": [
    "# Rename year in df_hdi to avoid ambiguity\n",
    "df_hdi_renamed = df_hdi.withColumnRenamed(\"year\", \"hdi_year\")\n",
    "\n",
    "gold_gender = (\n",
    "    df_male.join(df_female, [\"country_code\", \"year\"], \"inner\")\n",
    "    .join(\n",
    "        df_hdi_renamed.select(\n",
    "            F.col(\"country_code_iso3\"),\n",
    "            F.col(\"country_name\"),\n",
    "            F.col(\"hdi_year\"),\n",
    "            F.col(\"hdi\")\n",
    "        ),\n",
    "        (df_male.country_code == F.col(\"country_code_iso3\")) &\n",
    "        (df_male.year == F.col(\"hdi_year\")),\n",
    "        \"inner\"\n",
    "    )\n",
    "    .select(\n",
    "        F.col(\"country_code\"),\n",
    "        F.col(\"country_name\"),\n",
    "        F.col(\"year\"),\n",
    "        F.col(\"male_rate\"),\n",
    "        F.col(\"female_rate\"),\n",
    "        F.when(\n",
    "            F.col(\"female_rate\") != 0,\n",
    "            F.col(\"male_rate\") / F.col(\"female_rate\")\n",
    "        ).otherwise(None).alias(\"gender_ratio\"),\n",
    "        (F.col(\"male_rate\") - F.col(\"female_rate\")).alias(\"gender_gap\"),\n",
    "        F.col(\"hdi\")\n",
    "    )\n",
    "    .withColumn(\n",
    "        \"gap_category\",\n",
    "        F.when(F.col(\"gender_ratio\") > 4, \"Very High Gap\")\n",
    "         .when(F.col(\"gender_ratio\") > 3, \"High Gap\")\n",
    "         .when(F.col(\"gender_ratio\") > 2, \"Moderate Gap\")\n",
    "         .otherwise(\"Low Gap\")\n",
    "    )\n",
    ")\n",
    "\n",
    "(\n",
    "    gold_gender.write\n",
    "    .mode(\"overwrite\")\n",
    "    .saveAsTable(\"gold.data_suicide.gender_disparity_analysis\")\n",
    ")"
   ]
  },
  {
   "cell_type": "code",
   "execution_count": 0,
   "metadata": {
    "application/vnd.databricks.v1+cell": {
     "cellMetadata": {
      "byteLimit": 2048000,
      "rowLimit": 10000
     },
     "inputWidgets": {},
     "nuid": "8bb5edab-3568-4463-ad6f-6b269af44d16",
     "showTitle": false,
     "tableResultSettingsMap": {},
     "title": ""
    }
   },
   "outputs": [],
   "source": [
    "# ============================================================================\n",
    "# GOLD 3: RANKING E COMPARAÇÃO REGIONAL\n",
    "# ============================================================================\n",
    "\n",
    "window_year_region = Window.partitionBy(\"year\", \"region\").orderBy(F.desc(\"suicide_rate\"))\n",
    "window_year_global = Window.partitionBy(\"year\").orderBy(F.desc(\"suicide_rate\"))\n",
    "\n",
    "gold_rankings = (\n",
    "    df_suicide\n",
    "    .filter(F.col(\"sex\") == \"both\")\n",
    "    .join(df_hdi.select(\"country_code_iso3\", \"country_name\", \"year\"),\n",
    "          (df_suicide.country_code == df_hdi.country_code_iso3) & \n",
    "          (df_suicide.year == df_hdi.year),\n",
    "          \"left\")\n",
    "    .select(\n",
    "        df_suicide.country_code,\n",
    "        \"country_name\",\n",
    "        df_suicide.region,\n",
    "        df_suicide.year,\n",
    "        df_suicide.rate_per_100k.alias(\"suicide_rate\")\n",
    "    )\n",
    "    .withColumn(\"rank_in_region\", F.row_number().over(window_year_region))\n",
    "    .withColumn(\"rank_global\", F.row_number().over(window_year_global))\n",
    ")\n",
    "\n",
    "# Calcular médias regionais\n",
    "regional_avg = (\n",
    "    gold_rankings\n",
    "    .groupBy(\"region\", \"year\")\n",
    "    .agg(\n",
    "        F.avg(\"suicide_rate\").alias(\"regional_avg_rate\"),\n",
    "        F.count(\"country_code\").alias(\"countries_in_region\")\n",
    "    )\n",
    ")\n",
    "\n",
    "gold_rankings = gold_rankings.join(\n",
    "    regional_avg, \n",
    "    [\"region\", \"year\"], \n",
    "    \"left\"\n",
    ").withColumn(\n",
    "    \"vs_regional_avg\",\n",
    "    F.col(\"suicide_rate\") - F.col(\"regional_avg_rate\")\n",
    ")\n",
    "\n",
    "(\n",
    "    gold_rankings.write\n",
    "    .mode(\"overwrite\")\n",
    "    .saveAsTable(\"gold.data_suicide.country_rankings\")\n",
    ")"
   ]
  },
  {
   "cell_type": "code",
   "execution_count": 0,
   "metadata": {
    "application/vnd.databricks.v1+cell": {
     "cellMetadata": {
      "byteLimit": 2048000,
      "rowLimit": 10000
     },
     "inputWidgets": {},
     "nuid": "b8c49f33-bd51-45de-9fb4-cc3afe1e061c",
     "showTitle": false,
     "tableResultSettingsMap": {},
     "title": ""
    }
   },
   "outputs": [],
   "source": [
    "# ============================================================================\n",
    "# GOLD 4: CORRELAÇÕES E FATORES (integração com drogas quando disponível)\n",
    "# ============================================================================\n",
    "\n",
    "# Esta tabela será atualizada quando tivermos silver de drogas\n",
    "try:\n",
    "    df_drugs = spark.table(\"silver.data_suicide.drug_indicators_wide\")\n",
    "    \n",
    "    gold_correlations = (\n",
    "        gold_suicide_hdi\n",
    "        .join(df_drugs,\n",
    "              (gold_suicide_hdi.country_code == df_drugs.country_code) &\n",
    "              (gold_suicide_hdi.year == df_drugs.year),\n",
    "              \"left\")\n",
    "        .select(\n",
    "            gold_suicide_hdi.country_code,\n",
    "            gold_suicide_hdi.country_name,\n",
    "            gold_suicide_hdi.year,\n",
    "            gold_suicide_hdi.suicide_rate,\n",
    "            gold_suicide_hdi.hdi,\n",
    "            F.col(\"treatment_coverage\"),\n",
    "            F.col(\"capacity_index\"),\n",
    "            F.col(\"pwid_pop\")\n",
    "        )\n",
    "    )\n",
    "    \n",
    "    (\n",
    "        gold_correlations.write\n",
    "        .mode(\"overwrite\")\n",
    "        .saveAsTable(\"gold.data_suicide.multifactor_correlation\")\n",
    "    )\n",
    "    print(\"✅ Tabela de correlações criada\")\n",
    "    \n",
    "except Exception as e:\n",
    "    print(f\"⚠️ Tabela de drogas não disponível ainda: {e}\")"
   ]
  },
  {
   "cell_type": "code",
   "execution_count": 0,
   "metadata": {
    "application/vnd.databricks.v1+cell": {
     "cellMetadata": {
      "byteLimit": 2048000,
      "rowLimit": 10000
     },
     "inputWidgets": {},
     "nuid": "7a794d2f-46c2-423a-8f71-bb290beab973",
     "showTitle": false,
     "tableResultSettingsMap": {},
     "title": ""
    }
   },
   "outputs": [],
   "source": [
    "# ============================================================================\n",
    "# GOLD 5: AGREGAÇÕES PARA DASHBOARDS - MÉTRICAS GLOBAIS\n",
    "# ============================================================================\n",
    "\n",
    "gold_global_metrics = (\n",
    "    df_suicide\n",
    "    .filter(F.col(\"sex\") == \"both\")\n",
    "    .groupBy(\"year\")\n",
    "    .agg(\n",
    "        F.avg(\"rate_per_100k\").alias(\"global_avg_rate\"),\n",
    "        F.max(\"rate_per_100k\").alias(\"global_max_rate\"),\n",
    "        F.min(\"rate_per_100k\").alias(\"global_min_rate\"),\n",
    "        F.stddev(\"rate_per_100k\").alias(\"global_std_rate\"),\n",
    "        F.count(\"country_code\").alias(\"countries_reporting\")\n",
    "    )\n",
    "    .orderBy(\"year\")\n",
    ")\n",
    "\n",
    "(\n",
    "    gold_global_metrics.write\n",
    "    .mode(\"overwrite\")\n",
    "    .saveAsTable(\"gold.data_suicide.global_metrics\")\n",
    ")"
   ]
  },
  {
   "cell_type": "code",
   "execution_count": 0,
   "metadata": {
    "application/vnd.databricks.v1+cell": {
     "cellMetadata": {
      "byteLimit": 2048000,
      "rowLimit": 10000
     },
     "inputWidgets": {},
     "nuid": "e0b66f70-40ff-4ac8-a857-2fdc6e4d61c8",
     "showTitle": false,
     "tableResultSettingsMap": {},
     "title": ""
    }
   },
   "outputs": [],
   "source": [
    "# ============================================================================\n",
    "# GOLD 6: ANÁLISE DE MUDANÇAS SIGNIFICATIVAS (ALERTS)\n",
    "# ============================================================================\n",
    "\n",
    "# Identificar países com mudanças bruscas (>20% em um ano ou >50% em 5 anos)\n",
    "window_country = Window.partitionBy(\"country_code\").orderBy(\"year\")\n",
    "\n",
    "gold_alerts = (\n",
    "    gold_suicide_hdi\n",
    "    .withColumn(\"rate_5y_ago\", F.lag(\"suicide_rate\", 5).over(window_country))\n",
    "    .withColumn(\n",
    "        \"change_5y_pct\",\n",
    "        F.when(\n",
    "            (F.col(\"rate_5y_ago\").isNotNull()) & (F.col(\"rate_5y_ago\") != 0),\n",
    "            (F.col(\"suicide_rate\") - F.col(\"rate_5y_ago\")) / F.col(\"rate_5y_ago\") * 100\n",
    "        ).otherwise(None)\n",
    "    )\n",
    "    .filter(\n",
    "        (F.abs(F.col(\"rate_change_pct\")) > 20) |\n",
    "        (F.abs(F.col(\"change_5y_pct\")) > 50)\n",
    "    )\n",
    "    .select(\n",
    "        \"country_code\",\n",
    "        \"country_name\",\n",
    "        \"year\",\n",
    "        \"suicide_rate\",\n",
    "        \"rate_change_pct\",\n",
    "        \"change_5y_pct\",\n",
    "        \"hdi\",\n",
    "        F.when(F.col(\"rate_change_pct\") > 20, \"Sharp Increase (1y)\")\n",
    "         .when(F.col(\"rate_change_pct\") < -20, \"Sharp Decrease (1y)\")\n",
    "         .when(F.col(\"change_5y_pct\") > 50, \"Major Increase (5y)\")\n",
    "         .when(F.col(\"change_5y_pct\") < -50, \"Major Decrease (5y)\")\n",
    "         .alias(\"alert_type\")\n",
    "    )\n",
    ")\n",
    "\n",
    "(\n",
    "    gold_alerts.write\n",
    "    .mode(\"overwrite\")\n",
    "    .saveAsTable(\"gold.data_suicide.significant_changes_alerts\")\n",
    ")"
   ]
  },
  {
   "cell_type": "code",
   "execution_count": 0,
   "metadata": {
    "application/vnd.databricks.v1+cell": {
     "cellMetadata": {
      "byteLimit": 2048000,
      "rowLimit": 10000
     },
     "inputWidgets": {},
     "nuid": "ecc3afc5-4bce-4255-bc5f-96dc32d148a5",
     "showTitle": false,
     "tableResultSettingsMap": {},
     "title": ""
    }
   },
   "outputs": [],
   "source": [
    "\n",
    "\n",
    "# ============================================================================\n",
    "# DOCUMENTAÇÃO DAS TABELAS\n",
    "# ============================================================================\n",
    "\n",
    "spark.sql(\"\"\"\n",
    "COMMENT ON TABLE gold.data_suicide.suicide_hdi_analysis IS\n",
    "'Análise temporal de suicídio correlacionada com HDI, incluindo tendências e categorização'\n",
    "\"\"\")\n",
    "\n",
    "spark.sql(\"\"\"\n",
    "COMMENT ON TABLE gold.data_suicide.gender_disparity_analysis IS\n",
    "'Análise comparativa entre taxas de suicídio masculina e feminina, com gaps e ratios'\n",
    "\"\"\")\n",
    "\n",
    "spark.sql(\"\"\"\n",
    "COMMENT ON TABLE gold.data_suicide.country_rankings IS\n",
    "'Rankings de países por taxa de suicídio (regional e global) com comparação vs. média regional'\n",
    "\"\"\")\n",
    "\n",
    "spark.sql(\"\"\"\n",
    "COMMENT ON TABLE gold.data_suicide.global_metrics IS\n",
    "'Métricas agregadas globais por ano para uso em dashboards executivos'\n",
    "\"\"\")\n",
    "\n",
    "spark.sql(\"\"\"\n",
    "COMMENT ON TABLE gold.data_suicide.significant_changes_alerts IS\n",
    "'Alertas de mudanças significativas (>20% em 1 ano ou >50% em 5 anos)'\n",
    "\"\"\")\n",
    "\n",
    "print(\"=\" * 80)\n",
    "print(\"✅ CAMADA GOLD CRIADA COM SUCESSO!\")\n",
    "print(\"=\" * 80)\n",
    "print(\"\\nTabelas criadas:\")\n",
    "print(\"1. gold.data_suicide.suicide_hdi_analysis\")\n",
    "print(\"2. gold.data_suicide.gender_disparity_analysis\")\n",
    "print(\"3. gold.data_suicide.country_rankings\")\n",
    "print(\"4. gold.data_suicide.multifactor_correlation (se dados de drogas disponíveis)\")\n",
    "print(\"5. gold.data_suicide.global_metrics\")\n",
    "print(\"6. gold.data_suicide.significant_changes_alerts\")"
   ]
  }
 ],
 "metadata": {
  "application/vnd.databricks.v1+notebook": {
   "computePreferences": null,
   "dashboards": [],
   "environmentMetadata": {
    "base_environment": "",
    "environment_version": "4"
   },
   "inputWidgetPreferences": null,
   "language": "python",
   "notebookMetadata": {
    "pythonIndentUnit": 4
   },
   "notebookName": "Golds",
   "widgets": {}
  },
  "language_info": {
   "name": "python"
  }
 },
 "nbformat": 4,
 "nbformat_minor": 0
}
