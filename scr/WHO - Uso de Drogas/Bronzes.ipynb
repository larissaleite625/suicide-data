{
 "cells": [
  {
   "cell_type": "code",
   "execution_count": 0,
   "metadata": {
    "application/vnd.databricks.v1+cell": {
     "cellMetadata": {
      "byteLimit": 2048000,
      "rowLimit": 10000
     },
     "inputWidgets": {},
     "nuid": "f523255a-3364-48cc-8690-60f32f24420c",
     "showTitle": false,
     "tableResultSettingsMap": {},
     "title": ""
    }
   },
   "outputs": [],
   "source": [
    "import requests\n",
    "import pandas as pd\n",
    "from pyspark.sql import functions as F"
   ]
  },
  {
   "cell_type": "code",
   "execution_count": 0,
   "metadata": {
    "application/vnd.databricks.v1+cell": {
     "cellMetadata": {
      "byteLimit": 2048000,
      "rowLimit": 10000
     },
     "inputWidgets": {},
     "nuid": "ece1ac05-7432-4359-854b-7e874fb7192d",
     "showTitle": false,
     "tableResultSettingsMap": {},
     "title": ""
    }
   },
   "outputs": [],
   "source": [
    "indicators = [\n",
    "    {\"code\": \"SCSUD_MEDNTG\", \"name\": \"Cobertura de serviços, medicamento incluído em manual/t diretrizes nacionais\", \"short\": \"med_ntg\"},\n",
    "    {\"code\": \"SCSUD_REHAB\", \"name\": \"Cobertura de serviços, programas de reabilitação\", \"short\": \"rehab\"},\n",
    "    {\"code\": \"PRISON_D3_DEATHS_DRUG_MRATE\", \"name\": \"Taxa de mortalidade por overdose de drogas em prisões (por 100.000 presos/ano)\", \"short\": \"prison_overdose\"},\n",
    "    {\"code\": \"SCSUD_GOVPROGRESS\", \"name\": \"Cobertura de serviços, progresso em governança\", \"short\": \"gov_progress\"},\n",
    "    {\"code\": \"PRISON_B15_REPDRUGEVENTS\", \"name\": \"Processo padronizado para eventos adversos por drogas em prisões\", \"short\": \"prison_adverse_events\"},\n",
    "    {\"code\": \"SUD_TREATMENTSERVICES_COVERAGE\", \"name\": \"Cobertura de serviços de tratamento para transtornos por uso de substâncias (%)\", \"short\": \"treatment_coverage\"},\n",
    "    {\"code\": \"SCSUD_MEDREG\", \"name\": \"Cobertura de serviços, medicamento registrado no país\", \"short\": \"med_reg\"},\n",
    "    {\"code\": \"SCSUD_FINANCINGEXP\", \"name\": \"Cobertura de serviços, informações sobre gastos governamentais\", \"short\": \"financing_exp\"},\n",
    "    {\"code\": \"SUD_SERVICECAPACITYINDEX\", \"name\": \"Índice de Capacidade de Serviços para Transtornos por Uso de Substâncias (SCI-SUD)\", \"short\": \"capacity_index\"},\n",
    "    {\"code\": \"SCSUD_MEDPUBLIC\", \"name\": \"Cobertura de serviços, medicamento fornecido gratuitamente no sistema público de saúde\", \"short\": \"med_public\"},\n",
    "    {\"code\": \"SCSUD_REHABPROGRESS\", \"name\": \"Cobertura de serviços, progresso em programas de reabilitação\", \"short\": \"rehab_progress\"},\n",
    "    {\"code\": \"SCSUD_NSS\", \"name\": \"Cobertura de serviços, serviços não estruturados\", \"short\": \"services_nss\"},\n",
    "    {\"code\": \"HEPATITIS_HCV_TREATMENT_PWID_PERCENT\", \"name\": \"Pessoas vivendo com HIV que injetam drogas, tratadas para hepatite C crônica (%)\", \"short\": \"hcv_treated_pwid\"},\n",
    "    {\"code\": \"SCSUD_PHARM\", \"name\": \"Cobertura de serviços, serviços de tratamento farmacológico\", \"short\": \"pharm\"},\n",
    "    {\"code\": \"SCSUD_MEDDF\", \"name\": \"Cobertura de serviços, medicamento incluído em formulário de drogas\", \"short\": \"med_formulary\"},\n",
    "    {\"code\": \"PWID_PSE_NUM\", \"name\": \"Pessoas que injetam drogas: estimativas populacionais (número)\", \"short\": \"pwid_pop\"},\n",
    "    {\"code\": \"PRISON_D4_SUD_DIAG_TOT\", \"name\": \"Diagnósticos ativos de transtornos por drogas em prisões (número)\", \"short\": \"prison_sud_diag\"},\n",
    "    {\"code\": \"SCSUD_MEDACCESSPROGRESS\", \"name\": \"Cobertura de serviços, progresso no acesso a medicamentos\", \"short\": \"med_access_progress\"},\n",
    "    {\"code\": \"SCSUD_PHARMPROGRESS\", \"name\": \"Cobertura de serviços, progresso em serviços farmacológicos\", \"short\": \"pharm_progress\"},\n",
    "    {\"code\": \"HEPATITIS_HCV_TESTING_PWID_PERCENT\", \"name\": \"Pessoas vivendo com HIV que injetam drogas, diagnosticadas com hepatite C crônica (%)\", \"short\": \"hcv_test_pwid\"}\n",
    "]\n"
   ]
  },
  {
   "cell_type": "code",
   "execution_count": 0,
   "metadata": {
    "application/vnd.databricks.v1+cell": {
     "cellMetadata": {
      "byteLimit": 2048000,
      "rowLimit": 10000
     },
     "inputWidgets": {},
     "nuid": "0a8a9ae0-4933-44bc-9191-08633cefc9e4",
     "showTitle": false,
     "tableResultSettingsMap": {
      "0": {
       "dataGridStateBlob": "{\"version\":1,\"tableState\":{\"columnPinning\":{\"left\":[\"#row_number#\"],\"right\":[]},\"columnSizing\":{},\"columnVisibility\":{}},\"settings\":{\"columns\":{}},\"syncTimestamp\":1759024253952}",
       "filterBlob": null,
       "queryPlanFiltersBlob": null,
       "tableResultIndex": 0
      },
      "1": {
       "dataGridStateBlob": "{\"version\":1,\"tableState\":{\"columnPinning\":{\"left\":[\"#row_number#\"],\"right\":[]},\"columnSizing\":{},\"columnVisibility\":{}},\"settings\":{\"columns\":{}},\"syncTimestamp\":1759025975341}",
       "filterBlob": null,
       "queryPlanFiltersBlob": null,
       "tableResultIndex": 1
      },
      "12": {
       "dataGridStateBlob": "{\"version\":1,\"tableState\":{\"columnPinning\":{\"left\":[\"#row_number#\"],\"right\":[]},\"columnSizing\":{},\"columnVisibility\":{}},\"settings\":{\"columns\":{}},\"syncTimestamp\":1759026620278}",
       "filterBlob": null,
       "queryPlanFiltersBlob": null,
       "tableResultIndex": 12
      },
      "13": {
       "dataGridStateBlob": "{\"version\":1,\"tableState\":{\"columnPinning\":{\"left\":[\"#row_number#\"],\"right\":[]},\"columnSizing\":{},\"columnVisibility\":{}},\"settings\":{\"columns\":{}},\"syncTimestamp\":1759026626772}",
       "filterBlob": null,
       "queryPlanFiltersBlob": null,
       "tableResultIndex": 13
      },
      "14": {
       "dataGridStateBlob": "{\"version\":1,\"tableState\":{\"columnPinning\":{\"left\":[\"#row_number#\"],\"right\":[]},\"columnSizing\":{},\"columnVisibility\":{}},\"settings\":{\"columns\":{}},\"syncTimestamp\":1759026640729}",
       "filterBlob": null,
       "queryPlanFiltersBlob": null,
       "tableResultIndex": 14
      },
      "15": {
       "dataGridStateBlob": "{\"version\":1,\"tableState\":{\"columnPinning\":{\"left\":[\"#row_number#\"],\"right\":[]},\"columnSizing\":{},\"columnVisibility\":{}},\"settings\":{\"columns\":{}},\"syncTimestamp\":1759026649356}",
       "filterBlob": null,
       "queryPlanFiltersBlob": null,
       "tableResultIndex": 15
      },
      "16": {
       "dataGridStateBlob": "{\"version\":1,\"tableState\":{\"columnPinning\":{\"left\":[\"#row_number#\"],\"right\":[]},\"columnSizing\":{},\"columnVisibility\":{}},\"settings\":{\"columns\":{}},\"syncTimestamp\":1759026657162}",
       "filterBlob": null,
       "queryPlanFiltersBlob": null,
       "tableResultIndex": 16
      },
      "17": {
       "dataGridStateBlob": "{\"version\":1,\"tableState\":{\"columnPinning\":{\"left\":[\"#row_number#\"],\"right\":[]},\"columnSizing\":{},\"columnVisibility\":{}},\"settings\":{\"columns\":{}},\"syncTimestamp\":1759026677777}",
       "filterBlob": null,
       "queryPlanFiltersBlob": null,
       "tableResultIndex": 17
      },
      "18": {
       "dataGridStateBlob": "{\"version\":1,\"tableState\":{\"columnPinning\":{\"left\":[\"#row_number#\"],\"right\":[]},\"columnSizing\":{},\"columnVisibility\":{}},\"settings\":{\"columns\":{}},\"syncTimestamp\":1759026687753}",
       "filterBlob": null,
       "queryPlanFiltersBlob": null,
       "tableResultIndex": 18
      },
      "19": {
       "dataGridStateBlob": "{\"version\":1,\"tableState\":{\"columnPinning\":{\"left\":[\"#row_number#\"],\"right\":[]},\"columnSizing\":{},\"columnVisibility\":{}},\"settings\":{\"columns\":{}},\"syncTimestamp\":1759026695632}",
       "filterBlob": null,
       "queryPlanFiltersBlob": null,
       "tableResultIndex": 19
      },
      "2": {
       "dataGridStateBlob": "{\"version\":1,\"tableState\":{\"columnPinning\":{\"left\":[\"#row_number#\"],\"right\":[]},\"columnSizing\":{},\"columnVisibility\":{}},\"settings\":{\"columns\":{}},\"syncTimestamp\":1759024389314}",
       "filterBlob": null,
       "queryPlanFiltersBlob": null,
       "tableResultIndex": 2
      },
      "20": {
       "dataGridStateBlob": "{\"version\":1,\"tableState\":{\"columnPinning\":{\"left\":[\"#row_number#\"],\"right\":[]},\"columnSizing\":{\"TimeDim\":120},\"columnVisibility\":{}},\"settings\":{\"columns\":{}},\"syncTimestamp\":1759026705794}",
       "filterBlob": null,
       "queryPlanFiltersBlob": null,
       "tableResultIndex": 20
      },
      "21": {
       "dataGridStateBlob": "{\"version\":1,\"tableState\":{\"columnPinning\":{\"left\":[\"#row_number#\"],\"right\":[]},\"columnSizing\":{},\"columnVisibility\":{}},\"settings\":{\"columns\":{}},\"syncTimestamp\":1759026716246}",
       "filterBlob": null,
       "queryPlanFiltersBlob": null,
       "tableResultIndex": 21
      },
      "22": {
       "dataGridStateBlob": "{\"version\":1,\"tableState\":{\"columnPinning\":{\"left\":[\"#row_number#\"],\"right\":[]},\"columnSizing\":{},\"columnVisibility\":{}},\"settings\":{\"columns\":{}},\"syncTimestamp\":1759026728812}",
       "filterBlob": null,
       "queryPlanFiltersBlob": null,
       "tableResultIndex": 22
      },
      "23": {
       "dataGridStateBlob": "{\"version\":1,\"tableState\":{\"columnPinning\":{\"left\":[\"#row_number#\"],\"right\":[]},\"columnSizing\":{},\"columnVisibility\":{}},\"settings\":{\"columns\":{}},\"syncTimestamp\":1759026763495}",
       "filterBlob": null,
       "queryPlanFiltersBlob": null,
       "tableResultIndex": 23
      },
      "24": {
       "dataGridStateBlob": "{\"version\":1,\"tableState\":{\"columnPinning\":{\"left\":[\"#row_number#\"],\"right\":[]},\"columnSizing\":{},\"columnVisibility\":{}},\"settings\":{\"columns\":{}},\"syncTimestamp\":1759026773545}",
       "filterBlob": null,
       "queryPlanFiltersBlob": null,
       "tableResultIndex": 24
      },
      "25": {
       "dataGridStateBlob": "{\"version\":1,\"tableState\":{\"columnPinning\":{\"left\":[\"#row_number#\"],\"right\":[]},\"columnSizing\":{},\"columnVisibility\":{}},\"settings\":{\"columns\":{}},\"syncTimestamp\":1759026786176}",
       "filterBlob": null,
       "queryPlanFiltersBlob": null,
       "tableResultIndex": 25
      },
      "26": {
       "dataGridStateBlob": "{\"version\":1,\"tableState\":{\"columnPinning\":{\"left\":[\"#row_number#\"],\"right\":[]},\"columnSizing\":{},\"columnVisibility\":{}},\"settings\":{\"columns\":{}},\"syncTimestamp\":1759026807548}",
       "filterBlob": null,
       "queryPlanFiltersBlob": null,
       "tableResultIndex": 26
      },
      "27": {
       "dataGridStateBlob": "{\"version\":1,\"tableState\":{\"columnPinning\":{\"left\":[\"#row_number#\"],\"right\":[]},\"columnSizing\":{},\"columnVisibility\":{}},\"settings\":{\"columns\":{}},\"syncTimestamp\":1759026815669}",
       "filterBlob": null,
       "queryPlanFiltersBlob": null,
       "tableResultIndex": 27
      },
      "28": {
       "dataGridStateBlob": "{\"version\":1,\"tableState\":{\"columnPinning\":{\"left\":[\"#row_number#\"],\"right\":[]},\"columnSizing\":{},\"columnVisibility\":{}},\"settings\":{\"columns\":{}},\"syncTimestamp\":1759026823881}",
       "filterBlob": null,
       "queryPlanFiltersBlob": null,
       "tableResultIndex": 28
      },
      "29": {
       "dataGridStateBlob": "{\"version\":1,\"tableState\":{\"columnPinning\":{\"left\":[\"#row_number#\"],\"right\":[]},\"columnSizing\":{},\"columnVisibility\":{}},\"settings\":{\"columns\":{}},\"syncTimestamp\":1759026835278}",
       "filterBlob": null,
       "queryPlanFiltersBlob": null,
       "tableResultIndex": 29
      },
      "3": {
       "dataGridStateBlob": "{\"version\":1,\"tableState\":{\"columnPinning\":{\"left\":[\"#row_number#\"],\"right\":[]},\"columnSizing\":{},\"columnVisibility\":{}},\"settings\":{\"columns\":{}},\"syncTimestamp\":1759026001950}",
       "filterBlob": null,
       "queryPlanFiltersBlob": null,
       "tableResultIndex": 3
      },
      "30": {
       "dataGridStateBlob": "{\"version\":1,\"tableState\":{\"columnPinning\":{\"left\":[\"#row_number#\"],\"right\":[]},\"columnSizing\":{},\"columnVisibility\":{}},\"settings\":{\"columns\":{}},\"syncTimestamp\":1759026845563}",
       "filterBlob": null,
       "queryPlanFiltersBlob": null,
       "tableResultIndex": 30
      },
      "31": {
       "dataGridStateBlob": "{\"version\":1,\"tableState\":{\"columnPinning\":{\"left\":[\"#row_number#\"],\"right\":[]},\"columnSizing\":{},\"columnVisibility\":{}},\"settings\":{\"columns\":{}},\"syncTimestamp\":1759026861977}",
       "filterBlob": null,
       "queryPlanFiltersBlob": null,
       "tableResultIndex": 31
      },
      "32": {
       "dataGridStateBlob": "{\"version\":1,\"tableState\":{\"columnPinning\":{\"left\":[\"#row_number#\"],\"right\":[]},\"columnSizing\":{},\"columnVisibility\":{}},\"settings\":{\"columns\":{}},\"syncTimestamp\":1759026873549}",
       "filterBlob": null,
       "queryPlanFiltersBlob": null,
       "tableResultIndex": 32
      },
      "33": {
       "dataGridStateBlob": "{\"version\":1,\"tableState\":{\"columnPinning\":{\"left\":[\"#row_number#\"],\"right\":[]},\"columnSizing\":{},\"columnVisibility\":{}},\"settings\":{\"columns\":{}},\"syncTimestamp\":1759026895699}",
       "filterBlob": null,
       "queryPlanFiltersBlob": null,
       "tableResultIndex": 33
      },
      "34": {
       "dataGridStateBlob": "{\"version\":1,\"tableState\":{\"columnPinning\":{\"left\":[\"#row_number#\"],\"right\":[]},\"columnSizing\":{},\"columnVisibility\":{}},\"settings\":{\"columns\":{}},\"syncTimestamp\":1759026948139}",
       "filterBlob": null,
       "queryPlanFiltersBlob": null,
       "tableResultIndex": 34
      },
      "37": {
       "dataGridStateBlob": "{\"version\":1,\"tableState\":{\"columnPinning\":{\"left\":[\"#row_number#\"],\"right\":[]},\"columnSizing\":{\"TimeDim\":120},\"columnVisibility\":{}},\"settings\":{\"columns\":{}},\"syncTimestamp\":1759026976496}",
       "filterBlob": null,
       "queryPlanFiltersBlob": null,
       "tableResultIndex": 37
      },
      "38": {
       "dataGridStateBlob": "{\"version\":1,\"tableState\":{\"columnPinning\":{\"left\":[\"#row_number#\"],\"right\":[]},\"columnSizing\":{},\"columnVisibility\":{}},\"settings\":{\"columns\":{}},\"syncTimestamp\":1759026988084}",
       "filterBlob": null,
       "queryPlanFiltersBlob": null,
       "tableResultIndex": 38
      },
      "39": {
       "dataGridStateBlob": "{\"version\":1,\"tableState\":{\"columnPinning\":{\"left\":[\"#row_number#\"],\"right\":[]},\"columnSizing\":{},\"columnVisibility\":{}},\"settings\":{\"columns\":{}},\"syncTimestamp\":1759026996901}",
       "filterBlob": null,
       "queryPlanFiltersBlob": null,
       "tableResultIndex": 39
      },
      "4": {
       "dataGridStateBlob": "{\"version\":1,\"tableState\":{\"columnPinning\":{\"left\":[\"#row_number#\"],\"right\":[]},\"columnSizing\":{},\"columnVisibility\":{}},\"settings\":{\"columns\":{}},\"syncTimestamp\":1759026474250}",
       "filterBlob": null,
       "queryPlanFiltersBlob": null,
       "tableResultIndex": 4
      },
      "5": {
       "dataGridStateBlob": "{\"version\":1,\"tableState\":{\"columnPinning\":{\"left\":[\"#row_number#\"],\"right\":[]},\"columnSizing\":{},\"columnVisibility\":{}},\"settings\":{\"columns\":{}},\"syncTimestamp\":1759026484190}",
       "filterBlob": null,
       "queryPlanFiltersBlob": null,
       "tableResultIndex": 5
      },
      "6": {
       "dataGridStateBlob": "{\"version\":1,\"tableState\":{\"columnPinning\":{\"left\":[\"#row_number#\"],\"right\":[]},\"columnSizing\":{},\"columnVisibility\":{}},\"settings\":{\"columns\":{}},\"syncTimestamp\":1759026499702}",
       "filterBlob": null,
       "queryPlanFiltersBlob": null,
       "tableResultIndex": 6
      },
      "7": {
       "dataGridStateBlob": "{\"version\":1,\"tableState\":{\"columnPinning\":{\"left\":[\"#row_number#\"],\"right\":[]},\"columnSizing\":{},\"columnVisibility\":{}},\"settings\":{\"columns\":{}},\"syncTimestamp\":1759026508945}",
       "filterBlob": null,
       "queryPlanFiltersBlob": null,
       "tableResultIndex": 7
      },
      "8": {
       "dataGridStateBlob": "{\"version\":1,\"tableState\":{\"columnPinning\":{\"left\":[\"#row_number#\"],\"right\":[]},\"columnSizing\":{},\"columnVisibility\":{}},\"settings\":{\"columns\":{}},\"syncTimestamp\":1759026570840}",
       "filterBlob": null,
       "queryPlanFiltersBlob": null,
       "tableResultIndex": 8
      },
      "9": {
       "dataGridStateBlob": "{\"version\":1,\"tableState\":{\"columnPinning\":{\"left\":[\"#row_number#\"],\"right\":[]},\"columnSizing\":{},\"columnVisibility\":{}},\"settings\":{\"columns\":{}},\"syncTimestamp\":1759026586618}",
       "filterBlob": null,
       "queryPlanFiltersBlob": null,
       "tableResultIndex": 9
      }
     },
     "title": ""
    }
   },
   "outputs": [],
   "source": [
    "# Caminho base S3\n",
    "landing_base = \"s3://bucketbastet/data-suicide/drugs/\"\n",
    "\n",
    "# Loop para cada indicador\n",
    "for ind in indicators:\n",
    "    code = ind[\"code\"]\n",
    "    name = ind[\"name\"]\n",
    "    short = ind[\"short\"]\n",
    "\n",
    "    print(f\"\\n Processando indicador {code} - {name}\")\n",
    "\n",
    "    # 1) Download WHO API\n",
    "    url = f\"https://ghoapi.azureedge.net/api/{code}?$filter=date(TimeDimensionBegin) ge 2000-01-01\"\n",
    "    resp = requests.get(url, timeout=60)\n",
    "\n",
    "    if resp.status_code != 200:\n",
    "        print(f\"Falha {resp.status_code} ao baixar {code}\")\n",
    "        continue\n",
    "\n",
    "    data = resp.json().get(\"value\", [])\n",
    "    if not data:\n",
    "        print(f\"Nenhum dado retornado para {code}\")\n",
    "        continue\n",
    "\n",
    "    # 2) Normaliza e cria Spark DF\n",
    "    raw_df = pd.json_normalize(data)\n",
    "    spark_df = spark.createDataFrame(raw_df)\n",
    "\n",
    "    void_cols = [c for c, t in spark_df.dtypes if t == \"void\"]\n",
    "    spark_df = spark_df.drop(*void_cols) if void_cols else spark_df\n",
    "    spark_df = spark_df.withColumn(\"ingestion_ts\", F.current_timestamp())\n",
    "\n",
    "    # 3) Salvar Landing (Parquet por indicador)\n",
    "    landing_path = f\"{landing_base}{short}/\"\n",
    "    display(spark_df)\n",
    "\n",
    "    # 4) Salvar Bronze\n",
    "    bronze_table = f\"bronze.data_suicide.drug_{short}\"\n",
    "    (\n",
    "        spark_df.write\n",
    "        .mode(\"overwrite\")\n",
    "        .option(\"mergeSchema\", \"true\")\n",
    "        .saveAsTable(bronze_table)\n",
    "    )\n",
    "    print(f\"Bronze salvo em {bronze_table}\")\n",
    "    display(spark_df)\n",
    "    # 5) Documentar tabela\n",
    "    spark.sql(f\"\"\"\n",
    "    COMMENT ON TABLE {bronze_table} IS\n",
    "    'WHO GHO - {name} (IndicatorCode={code}). Fonte: {url}'\n",
    "    \"\"\")\n"
   ]
  }
 ],
 "metadata": {
  "application/vnd.databricks.v1+notebook": {
   "computePreferences": null,
   "dashboards": [],
   "environmentMetadata": {
    "base_environment": "",
    "environment_version": "3"
   },
   "inputWidgetPreferences": null,
   "language": "python",
   "notebookMetadata": {
    "mostRecentlyExecutedCommandWithImplicitDF": {
     "commandId": 5691684874789855,
     "dataframes": [
      "_sqldf"
     ]
    },
    "pythonIndentUnit": 4
   },
   "notebookName": "Bronzes",
   "widgets": {}
  },
  "language_info": {
   "name": "python"
  }
 },
 "nbformat": 4,
 "nbformat_minor": 0
}
