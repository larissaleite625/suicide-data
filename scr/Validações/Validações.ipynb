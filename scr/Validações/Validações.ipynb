{
 "cells": [
  {
   "cell_type": "markdown",
   "metadata": {
    "application/vnd.databricks.v1+cell": {
     "cellMetadata": {
      "byteLimit": 2048000,
      "rowLimit": 10000
     },
     "inputWidgets": {},
     "nuid": "3d076008-265f-409d-a87b-d4bf01ecc25d",
     "showTitle": false,
     "tableResultSettingsMap": {},
     "title": ""
    }
   },
   "source": [
    "# SCRIPT DE VALIDAÇÃO COMPLETA"
   ]
  },
  {
   "cell_type": "code",
   "execution_count": 0,
   "metadata": {
    "application/vnd.databricks.v1+cell": {
     "cellMetadata": {
      "byteLimit": 2048000,
      "rowLimit": 10000
     },
     "inputWidgets": {},
     "nuid": "8677ce6a-3f91-4585-a48e-5802903c9f42",
     "showTitle": false,
     "tableResultSettingsMap": {},
     "title": ""
    }
   },
   "outputs": [],
   "source": [
    "-- 1.1 Listar todas as tabelas Gold\n",
    "SHOW TABLES IN gold.data_suicide;\n",
    "\n",
    "-- 1.2 Verificar schemas\n",
    "DESCRIBE TABLE gold.data_suicide.suicide_hdi_analysis;"
   ]
  },
  {
   "cell_type": "code",
   "execution_count": 0,
   "metadata": {
    "application/vnd.databricks.v1+cell": {
     "cellMetadata": {
      "byteLimit": 2048000,
      "rowLimit": 10000
     },
     "inputWidgets": {},
     "nuid": "644218e4-368e-41c9-9651-a5c5bac64aa3",
     "showTitle": false,
     "tableResultSettingsMap": {},
     "title": ""
    }
   },
   "outputs": [],
   "source": [
    "DESCRIBE TABLE gold.data_suicide.gender_disparity_analysis;"
   ]
  },
  {
   "cell_type": "code",
   "execution_count": 0,
   "metadata": {
    "application/vnd.databricks.v1+cell": {
     "cellMetadata": {
      "byteLimit": 2048000,
      "rowLimit": 10000
     },
     "inputWidgets": {},
     "nuid": "7eeca853-e9ea-4d45-a408-79211258cbfa",
     "showTitle": false,
     "tableResultSettingsMap": {},
     "title": ""
    }
   },
   "outputs": [],
   "source": [
    "DESCRIBE TABLE gold.data_suicide.country_rankings;"
   ]
  },
  {
   "cell_type": "code",
   "execution_count": 0,
   "metadata": {
    "application/vnd.databricks.v1+cell": {
     "cellMetadata": {
      "byteLimit": 2048000,
      "rowLimit": 10000
     },
     "inputWidgets": {},
     "nuid": "4e2326a9-a451-435a-9d76-bd29c3e737b2",
     "showTitle": false,
     "tableResultSettingsMap": {},
     "title": ""
    }
   },
   "outputs": [],
   "source": [
    "\n",
    "DESCRIBE TABLE gold.data_suicide.global_metrics;"
   ]
  },
  {
   "cell_type": "code",
   "execution_count": 0,
   "metadata": {
    "application/vnd.databricks.v1+cell": {
     "cellMetadata": {
      "byteLimit": 2048000,
      "rowLimit": 10000
     },
     "inputWidgets": {},
     "nuid": "e5d1483a-ea8a-43ee-8bc6-d512dcfcba28",
     "showTitle": false,
     "tableResultSettingsMap": {},
     "title": ""
    }
   },
   "outputs": [],
   "source": [
    "DESCRIBE TABLE gold.data_suicide.significant_changes_alerts;"
   ]
  },
  {
   "cell_type": "code",
   "execution_count": 0,
   "metadata": {
    "application/vnd.databricks.v1+cell": {
     "cellMetadata": {
      "byteLimit": 2048000,
      "rowLimit": 10000
     },
     "inputWidgets": {},
     "nuid": "c6ade2cb-37ee-4383-be40-c4760dffafc5",
     "showTitle": false,
     "tableResultSettingsMap": {},
     "title": ""
    }
   },
   "outputs": [],
   "source": [
    "DESCRIBE TABLE gold.data_suicide.momentum_analysis;"
   ]
  },
  {
   "cell_type": "code",
   "execution_count": 0,
   "metadata": {
    "application/vnd.databricks.v1+cell": {
     "cellMetadata": {
      "byteLimit": 2048000,
      "rowLimit": 10000
     },
     "inputWidgets": {},
     "nuid": "90677557-7ac8-48ba-89fe-fa114ab63a58",
     "showTitle": false,
     "tableResultSettingsMap": {},
     "title": ""
    }
   },
   "outputs": [],
   "source": [
    "SELECT \n",
    "    'suicide_hdi_analysis' AS tabela,\n",
    "    COUNT(*) AS total_registros,\n",
    "    COUNT(DISTINCT country_code) AS paises,\n",
    "    COUNT(DISTINCT year) AS anos,\n",
    "    MIN(year) AS ano_min,\n",
    "    MAX(year) AS ano_max\n",
    "FROM gold.data_suicide.suicide_hdi_analysis\n",
    "\n",
    "UNION ALL\n",
    "\n",
    "SELECT \n",
    "    'gender_disparity_analysis' AS tabela,\n",
    "    COUNT(*) AS total_registros,\n",
    "    COUNT(DISTINCT country_code) AS paises,\n",
    "    COUNT(DISTINCT year) AS anos,\n",
    "    MIN(year) AS ano_min,\n",
    "    MAX(year) AS ano_max\n",
    "FROM gold.data_suicide.gender_disparity_analysis\n",
    "\n",
    "UNION ALL\n",
    "\n",
    "SELECT \n",
    "    'country_rankings' AS tabela,\n",
    "    COUNT(*) AS total_registros,\n",
    "    COUNT(DISTINCT country_code) AS paises,\n",
    "    COUNT(DISTINCT year) AS anos,\n",
    "    MIN(year) AS ano_min,\n",
    "    MAX(year) AS ano_max\n",
    "FROM gold.data_suicide.country_rankings\n",
    "\n",
    "UNION ALL\n",
    "\n",
    "SELECT \n",
    "    'global_metrics' AS tabela,\n",
    "    COUNT(*) AS total_registros,\n",
    "    0 AS paises,\n",
    "    COUNT(DISTINCT year) AS anos,\n",
    "    MIN(year) AS ano_min,\n",
    "    MAX(year) AS ano_max\n",
    "FROM gold.data_suicide.global_metrics\n",
    "\n",
    "UNION ALL\n",
    "\n",
    "SELECT \n",
    "    'significant_changes_alerts' AS tabela,\n",
    "    COUNT(*) AS total_registros,\n",
    "    COUNT(DISTINCT country_code) AS paises,\n",
    "    COUNT(DISTINCT year) AS anos,\n",
    "    MIN(year) AS ano_min,\n",
    "    MAX(year) AS ano_max\n",
    "FROM gold.data_suicide.significant_changes_alerts;"
   ]
  },
  {
   "cell_type": "code",
   "execution_count": 0,
   "metadata": {
    "application/vnd.databricks.v1+cell": {
     "cellMetadata": {
      "byteLimit": 2048000,
      "rowLimit": 10000
     },
     "inputWidgets": {},
     "nuid": "f29773f9-4539-4447-b8c0-7c1ec399cc54",
     "showTitle": false,
     "tableResultSettingsMap": {},
     "title": ""
    }
   },
   "outputs": [],
   "source": [
    "-- 3.1 Verificar valores nulos em colunas críticas\n",
    "SELECT \n",
    "    'suicide_hdi_analysis - Valores Nulos' AS verificacao,\n",
    "    COUNT(*) AS total_linhas,\n",
    "    SUM(CASE WHEN country_code IS NULL THEN 1 ELSE 0 END) AS country_code_nulos,\n",
    "    SUM(CASE WHEN year IS NULL THEN 1 ELSE 0 END) AS year_nulos,\n",
    "    SUM(CASE WHEN suicide_rate IS NULL THEN 1 ELSE 0 END) AS suicide_rate_nulos,\n",
    "    SUM(CASE WHEN hdi IS NULL THEN 1 ELSE 0 END) AS hdi_nulos\n",
    "FROM gold.data_suicide.suicide_hdi_analysis;\n",
    "\n",
    "-- 3.2 Verificar ranges de valores\n",
    "SELECT \n",
    "    'Validação de Ranges' AS verificacao,\n",
    "    MIN(suicide_rate) AS taxa_minima,\n",
    "    MAX(suicide_rate) AS taxa_maxima,\n",
    "    AVG(suicide_rate) AS taxa_media,\n",
    "    MIN(hdi) AS hdi_minimo,\n",
    "    MAX(hdi) AS hdi_maximo,\n",
    "    AVG(hdi) AS hdi_medio\n",
    "FROM gold.data_suicide.suicide_hdi_analysis;\n",
    "\n",
    "-- 3.3 Verificar consistência temporal (sem gaps)\n",
    "WITH anos_consecutivos AS (\n",
    "    SELECT DISTINCT \n",
    "        country_code,\n",
    "        year,\n",
    "        LAG(year) OVER (PARTITION BY country_code ORDER BY year) AS ano_anterior\n",
    "    FROM gold.data_suicide.suicide_hdi_analysis\n",
    ")\n",
    "SELECT \n",
    "    'Gaps Temporais' AS verificacao,\n",
    "    COUNT(*) AS total_gaps,\n",
    "    COUNT(DISTINCT country_code) AS paises_com_gaps\n",
    "FROM anos_consecutivos\n",
    "WHERE year - ano_anterior > 1;\n"
   ]
  },
  {
   "cell_type": "code",
   "execution_count": 0,
   "metadata": {
    "application/vnd.databricks.v1+cell": {
     "cellMetadata": {
      "byteLimit": 2048000,
      "rowLimit": 10000
     },
     "inputWidgets": {},
     "nuid": "0e178674-304b-42ce-86ca-f85508231d4f",
     "showTitle": false,
     "tableResultSettingsMap": {},
     "title": ""
    }
   },
   "outputs": [],
   "source": [
    "-- 4.1 Insight 1: Relação HDI x Taxa de Suicídio\n",
    "SELECT \n",
    "    'INSIGHT 1: HDI vs Suicídio' AS teste,\n",
    "    hdi_category AS categoria_idh,\n",
    "    ROUND(AVG(suicide_rate), 2) AS taxa_media_suicidio,\n",
    "    COUNT(DISTINCT country_code) AS numero_paises\n",
    "FROM gold.data_suicide.suicide_hdi_analysis\n",
    "WHERE year >= 2015\n",
    "GROUP BY hdi_category\n",
    "ORDER BY taxa_media_suicidio DESC;\n",
    "\n",
    "-- 4.2 Insight 3: Disparidade de Gênero\n",
    "SELECT \n",
    "    'INSIGHT 3: Disparidade Gênero' AS teste,\n",
    "    country_name AS pais,\n",
    "    ROUND(gender_ratio, 2) AS razao_m_f,\n",
    "    gap_category AS categoria\n",
    "FROM gold.data_suicide.gender_disparity_analysis\n",
    "WHERE year = (SELECT MAX(year) FROM gold.data_suicide.gender_disparity_analysis)\n",
    "ORDER BY gender_ratio DESC\n",
    "LIMIT 10;\n",
    "\n",
    "-- 4.3 Insight 6: Alertas Críticos\n",
    "SELECT \n",
    "    'INSIGHT 6: Alertas' AS teste,\n",
    "    country_name AS pais,\n",
    "    year AS ano,\n",
    "    ROUND(suicide_rate, 2) AS taxa,\n",
    "    alert_type AS tipo_alerta\n",
    "FROM gold.data_suicide.significant_changes_alerts\n",
    "WHERE year >= 2020\n",
    "ORDER BY ABS(rate_change_pct) DESC\n",
    "LIMIT 10;\n",
    "\n",
    "-- 4.4 Insight Brasil 1: Evolução Brasil\n",
    "SELECT \n",
    "    'BRASIL 1: Evolução' AS teste,\n",
    "    year AS ano,\n",
    "    ROUND(suicide_rate, 2) AS taxa_brasil,\n",
    "    ROUND(regional_avg_rate, 2) AS media_americas,\n",
    "    rank_in_region AS ranking_regional\n",
    "FROM gold.data_suicide.country_rankings\n",
    "WHERE country_code = 'BRA'\n",
    "  AND year >= 2015\n",
    "ORDER BY year DESC;\n",
    "\n",
    "-- 4.5 Global Metrics - Dashboard\n",
    "SELECT \n",
    "    'MÉTRICAS GLOBAIS' AS teste,\n",
    "    year AS ano,\n",
    "    ROUND(global_avg_rate, 2) AS taxa_media_global,\n",
    "    countries_reporting AS paises_reportando\n",
    "FROM gold.data_suicide.global_metrics\n",
    "ORDER BY year DESC\n",
    "LIMIT 5;\n"
   ]
  },
  {
   "cell_type": "code",
   "execution_count": 0,
   "metadata": {
    "application/vnd.databricks.v1+cell": {
     "cellMetadata": {
      "byteLimit": 2048000,
      "rowLimit": 10000
     },
     "inputWidgets": {},
     "nuid": "cf57eabc-120d-419a-8ba9-c582416f69c9",
     "showTitle": false,
     "tableResultSettingsMap": {},
     "title": ""
    }
   },
   "outputs": [],
   "source": [
    "-- 5.1 Testar join Suicide + HDI\n",
    "SELECT \n",
    "    'Join Suicide-HDI' AS validacao,\n",
    "    COUNT(*) AS registros_com_join,\n",
    "    COUNT(DISTINCT s.country_code) AS paises_matched\n",
    "FROM gold.data_suicide.suicide_hdi_analysis s;\n",
    "\n",
    "-- 5.2 Testar join com Gender Disparity\n",
    "SELECT \n",
    "    'Join Gender Disparity' AS validacao,\n",
    "    COUNT(*) AS total_registros,\n",
    "    COUNT(DISTINCT country_code) AS paises_com_dados_genero\n",
    "FROM gold.data_suicide.gender_disparity_analysis;\n"
   ]
  },
  {
   "cell_type": "code",
   "execution_count": 0,
   "metadata": {
    "application/vnd.databricks.v1+cell": {
     "cellMetadata": {
      "byteLimit": 2048000,
      "rowLimit": 10000
     },
     "inputWidgets": {},
     "nuid": "07bae592-ce85-402b-912e-9023fa3ab382",
     "showTitle": false,
     "tableResultSettingsMap": {},
     "title": ""
    }
   },
   "outputs": [],
   "source": [
    "-- 6.1 KPIs principais para Dashboard 1\n",
    "WITH dados_recentes AS (\n",
    "    SELECT MAX(year) AS ano_max FROM gold.data_suicide.suicide_hdi_analysis\n",
    ")\n",
    "SELECT \n",
    "    -- KPI 1: Taxa Global Atual\n",
    "    ROUND(AVG(suicide_rate), 2) AS taxa_global_atual,\n",
    "    \n",
    "    -- KPI 2: Total de países com dados\n",
    "    COUNT(DISTINCT country_code) AS total_paises,\n",
    "    \n",
    "    -- KPI 3: Alertas críticos recentes\n",
    "    (SELECT COUNT(DISTINCT country_code) \n",
    "     FROM gold.data_suicide.significant_changes_alerts \n",
    "     WHERE year >= (SELECT ano_max FROM dados_recentes) - 1\n",
    "     AND alert_type LIKE '%Increase%') AS alertas_criticos,\n",
    "    \n",
    "    -- KPI 4: Ano mais recente\n",
    "    MAX(year) AS ultimo_ano_disponivel\n",
    "FROM gold.data_suicide.suicide_hdi_analysis\n",
    "CROSS JOIN dados_recentes\n",
    "WHERE year = ano_max;"
   ]
  },
  {
   "cell_type": "code",
   "execution_count": 0,
   "metadata": {
    "application/vnd.databricks.v1+cell": {
     "cellMetadata": {
      "byteLimit": 2048000,
      "rowLimit": 10000
     },
     "inputWidgets": {},
     "nuid": "6f33041a-73f3-455b-a51f-dc3a7e08db3f",
     "showTitle": false,
     "tableResultSettingsMap": {},
     "title": ""
    }
   },
   "outputs": [],
   "source": [
    "-- 6.2 Dados para visualização principal (Evolução 2000-2024)\n",
    "SELECT \n",
    "    year AS ano,\n",
    "    ROUND(AVG(suicide_rate), 2) AS taxa_media_global,\n",
    "    COUNT(DISTINCT country_code) AS paises_reportando\n",
    "FROM gold.data_suicide.suicide_hdi_analysis\n",
    "WHERE year >= 2000\n",
    "GROUP BY year\n",
    "ORDER BY year;"
   ]
  }
 ],
 "metadata": {
  "application/vnd.databricks.v1+notebook": {
   "computePreferences": null,
   "dashboards": [],
   "environmentMetadata": {
    "base_environment": "",
    "environment_version": "4"
   },
   "inputWidgetPreferences": null,
   "language": "sql",
   "notebookMetadata": {
    "pythonIndentUnit": 4
   },
   "notebookName": "Validações",
   "widgets": {}
  },
  "language_info": {
   "name": "sql"
  }
 },
 "nbformat": 4,
 "nbformat_minor": 0
}
