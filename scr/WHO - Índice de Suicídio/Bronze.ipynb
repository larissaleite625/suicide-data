{
 "cells": [
  {
   "cell_type": "code",
   "execution_count": 0,
   "metadata": {
    "application/vnd.databricks.v1+cell": {
     "cellMetadata": {},
     "inputWidgets": {},
     "nuid": "a754e52f-a512-4bb0-9630-b0ff35aff8f0",
     "showTitle": false,
     "tableResultSettingsMap": {},
     "title": ""
    }
   },
   "outputs": [],
   "source": [
    "import requests\n",
    "import pandas as pd\n",
    "import pyspark.sql.functions as F"
   ]
  },
  {
   "cell_type": "code",
   "execution_count": 0,
   "metadata": {
    "application/vnd.databricks.v1+cell": {
     "cellMetadata": {
      "byteLimit": 2048000,
      "rowLimit": 10000
     },
     "inputWidgets": {},
     "nuid": "5ec8c0fb-369b-454d-ba8c-77e5b694acf1",
     "showTitle": false,
     "tableResultSettingsMap": {},
     "title": ""
    }
   },
   "outputs": [],
   "source": [
    "url = (\n",
    "    \"https://ghoapi.azureedge.net/api/SDGSUICIDE\"\n",
    "    \"?$filter=date(TimeDimensionBegin) ge 2000-01-01\"\n",
    ")\n",
    "data = requests.get(url, timeout=60).json()[\"value\"]\n",
    "raw_df = pd.json_normalize(data)\n",
    "\n",
    "spark_df = spark.createDataFrame(raw_df)\n",
    "\n",
    "columns_to_drop = [col for col, dtype in spark_df.dtypes if dtype == \"void\"]\n",
    "spark_df = spark_df.drop(*columns_to_drop)\n",
    "\n",
    "spark_df = spark_df.withColumn(\"ingestion_ts\", F.current_timestamp())\n",
    "\n",
    "(\n",
    "    spark_df.write\n",
    "    .mode(\"overwrite\")\n",
    "    .parquet(\"s3://bucketbastet/data-suicide/who\")\n",
    ")"
   ]
  },
  {
   "cell_type": "code",
   "execution_count": 0,
   "metadata": {
    "application/vnd.databricks.v1+cell": {
     "cellMetadata": {
      "byteLimit": 2048000,
      "rowLimit": 10000
     },
     "inputWidgets": {},
     "nuid": "2a383d29-6f24-4139-a3f9-0e940af89f32",
     "showTitle": false,
     "tableResultSettingsMap": {},
     "title": ""
    }
   },
   "outputs": [],
   "source": [
    "spark.sql(f\"CREATE SCHEMA IF NOT EXISTS bronze.data_suicide\")"
   ]
  },
  {
   "cell_type": "code",
   "execution_count": 0,
   "metadata": {
    "application/vnd.databricks.v1+cell": {
     "cellMetadata": {
      "byteLimit": 2048000,
      "rowLimit": 10000
     },
     "inputWidgets": {},
     "nuid": "f25260d8-f517-4a37-a9c4-2338ca30843b",
     "showTitle": false,
     "tableResultSettingsMap": {
      "0": {
       "dataGridStateBlob": "{\"version\":1,\"tableState\":{\"columnPinning\":{\"left\":[\"#row_number#\"],\"right\":[]},\"columnSizing\":{},\"columnVisibility\":{}},\"settings\":{\"columns\":{}},\"syncTimestamp\":1759011587609}",
       "filterBlob": null,
       "queryPlanFiltersBlob": null,
       "tableResultIndex": 0
      }
     },
     "title": ""
    }
   },
   "outputs": [],
   "source": [
    "# Ler parquet do landing\n",
    "landing_path = \"s3://bucketbastet/data-suicide/who\"\n",
    "df_raw = spark.read.parquet(landing_path)\n",
    "\n",
    "# Dropar colunas void se existirem\n",
    "void_cols = [c for c, t in df_raw.dtypes if t == \"void\"]\n",
    "df_bronze = df_raw.drop(*void_cols) if void_cols else df_raw\n",
    "\n",
    "# Visualizar dados\n",
    "display(df_bronze)\n",
    "\n",
    "# Contar quantos arquivos de dados foram lidos\n",
    "arquivos_lidos = df_raw.inputFiles()\n",
    "print(\"Total de arquivos lidos:\", len(arquivos_lidos))\n",
    "\n",
    "# Salvar como tabela bronze \n",
    "(\n",
    "    df_bronze.write\n",
    "    .mode(\"overwrite\")             \n",
    "    .option(\"mergeSchema\", \"true\")\n",
    "    .saveAsTable(\"bronze.data_suicide.who_suicide_data\")\n",
    ")\n"
   ]
  },
  {
   "cell_type": "code",
   "execution_count": 0,
   "metadata": {
    "application/vnd.databricks.v1+cell": {
     "cellMetadata": {
      "byteLimit": 2048000,
      "rowLimit": 10000
     },
     "inputWidgets": {},
     "nuid": "237bb9de-3267-4fd3-a7a6-73768068510f",
     "showTitle": false,
     "tableResultSettingsMap": {},
     "title": ""
    }
   },
   "outputs": [],
   "source": [
    "display(spark.sql(\"describe bronze.data_suicide.who_suicide_data\"))"
   ]
  }
 ],
 "metadata": {
  "application/vnd.databricks.v1+notebook": {
   "computePreferences": null,
   "dashboards": [],
   "environmentMetadata": {
    "base_environment": "",
    "environment_version": "3"
   },
   "inputWidgetPreferences": null,
   "language": "python",
   "notebookMetadata": {
    "mostRecentlyExecutedCommandWithImplicitDF": {
     "commandId": 5268050112807778,
     "dataframes": [
      "_sqldf"
     ]
    },
    "pythonIndentUnit": 4
   },
   "notebookName": "Bronze",
   "widgets": {}
  },
  "language_info": {
   "name": "python"
  }
 },
 "nbformat": 4,
 "nbformat_minor": 0
}
