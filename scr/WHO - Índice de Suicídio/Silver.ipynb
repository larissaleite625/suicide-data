{
 "cells": [
  {
   "cell_type": "code",
   "execution_count": 0,
   "metadata": {
    "application/vnd.databricks.v1+cell": {
     "cellMetadata": {
      "byteLimit": 2048000,
      "rowLimit": 10000
     },
     "inputWidgets": {},
     "nuid": "2ac06eb0-4af1-49bf-8803-85616a6a7f07",
     "showTitle": false,
     "tableResultSettingsMap": {},
     "title": ""
    }
   },
   "outputs": [],
   "source": [
    "from pyspark.sql import functions as F"
   ]
  },
  {
   "cell_type": "code",
   "execution_count": 0,
   "metadata": {
    "application/vnd.databricks.v1+cell": {
     "cellMetadata": {
      "byteLimit": 2048000,
      "rowLimit": 10000
     },
     "inputWidgets": {},
     "nuid": "c2a1e830-8692-4fc2-aa37-4f123a7c1701",
     "showTitle": false,
     "tableResultSettingsMap": {},
     "title": ""
    }
   },
   "outputs": [],
   "source": [
    "# Ler da bronze\n",
    "df_bronze = spark.table(\"bronze.data_suicide.who_suicide_data\")\n",
    "\n",
    "# Selecionar os campos para a silver\n",
    "df_silver = (\n",
    "    df_bronze\n",
    "    .withColumn(\"country_code\", F.col(\"SpatialDim\"))\n",
    "    .withColumn(\"region\", F.col(\"ParentLocation\"))\n",
    "    .withColumn(\"year\", F.col(\"TimeDim\"))\n",
    "    .withColumn(\n",
    "        \"sex\",\n",
    "        F.when(F.col(\"Dim1\") == \"SEX_MLE\", \"male\")\n",
    "         .when(F.col(\"Dim1\") == \"SEX_FMLE\", \"female\")\n",
    "         .when(F.col(\"Dim1\") == \"SEX_BTSX\", \"both\")\n",
    "         .otherwise(F.col(\"Dim1\"))\n",
    "    )\n",
    "    .withColumn(\"rate_per_100k\", F.col(\"NumericValue\"))\n",
    "    .withColumn(\"ci_low\", F.col(\"Low\"))\n",
    "    .withColumn(\"ci_high\", F.col(\"High\"))\n",
    "    .withColumn(\"value_label\", F.col(\"Value\"))\n",
    "    .select(\"country_code\", \"region\", \"year\", \"sex\",\n",
    "            \"rate_per_100k\", \"ci_low\", \"ci_high\", \"value_label\")\n",
    ")\n",
    "\n",
    "spark.sql(f\"CREATE SCHEMA IF NOT EXISTS silver.data_suicide\")\n",
    "\n",
    "# Salvar como tabela silver\n",
    "(\n",
    "    df_silver.write\n",
    "    .mode(\"overwrite\")\n",
    "    .option(\"mergeSchema\", \"true\")\n",
    "    .saveAsTable(\"silver.data_suicide.who_suicide_data\")\n",
    ")\n"
   ]
  },
  {
   "cell_type": "code",
   "execution_count": 0,
   "metadata": {
    "application/vnd.databricks.v1+cell": {
     "cellMetadata": {
      "byteLimit": 2048000,
      "rowLimit": 10000
     },
     "inputWidgets": {},
     "nuid": "af17ab44-8dee-432d-b1b9-207d798b0aaa",
     "showTitle": false,
     "tableResultSettingsMap": {},
     "title": ""
    }
   },
   "outputs": [],
   "source": [
    "\n",
    "# Adicionar comentários na tabela e colunas\n",
    "spark.sql(\"\"\"\n",
    "COMMENT ON TABLE silver.data_suicide.who_suicide_data IS\n",
    "'Tabela Silver com taxas de suicídio (SDG 3.4.2) por país/ano/sexo, derivada da camada bronze WHO GHO API'\n",
    "\"\"\")\n",
    "\n",
    "spark.sql(\"\"\"\n",
    "COMMENT ON COLUMN silver.data_suicide.who_suicide_data.country_code IS\n",
    "'Código ISO-3 do país, conforme OMS (SpatialDim)'\n",
    "\"\"\")\n",
    "\n",
    "spark.sql(\"\"\"\n",
    "COMMENT ON COLUMN silver.data_suicide.who_suicide_data.region IS\n",
    "'Região da OMS associada ao país (ParentLocation)'\n",
    "\"\"\")\n",
    "\n",
    "spark.sql(\"\"\"\n",
    "COMMENT ON COLUMN silver.data_suicide.who_suicide_data.year IS\n",
    "'Ano de referência do dado (TimeDim)'\n",
    "\"\"\")\n",
    "\n",
    "spark.sql(\"\"\"\n",
    "COMMENT ON COLUMN silver.data_suicide.who_suicide_data.sex IS\n",
    "'Sexo (male/female/both), mapeado de Dim1'\n",
    "\"\"\")\n",
    "\n",
    "spark.sql(\"\"\"\n",
    "COMMENT ON COLUMN silver.data_suicide.who_suicide_data.rate_per_100k IS\n",
    "'Taxa de suicídio por 100.000 habitantes (NumericValue)'\n",
    "\"\"\")\n",
    "\n",
    "spark.sql(\"\"\"\n",
    "COMMENT ON COLUMN silver.data_suicide.who_suicide_data.ci_low IS\n",
    "'Limite inferior do intervalo de confiança'\n",
    "\"\"\")\n",
    "\n",
    "spark.sql(\"\"\"\n",
    "COMMENT ON COLUMN silver.data_suicide.who_suicide_data.ci_high IS\n",
    "'Limite superior do intervalo de confiança'\n",
    "\"\"\")\n",
    "\n",
    "spark.sql(\"\"\"\n",
    "COMMENT ON COLUMN silver.data_suicide.who_suicide_data.value_label IS\n",
    "'Texto original da OMS com valor + IC'\n",
    "\"\"\")\n"
   ]
  },
  {
   "cell_type": "code",
   "execution_count": 0,
   "metadata": {
    "application/vnd.databricks.v1+cell": {
     "cellMetadata": {
      "byteLimit": 2048000,
      "rowLimit": 10000
     },
     "inputWidgets": {},
     "nuid": "576d20c9-53cf-4eb7-9c98-54c01aac755f",
     "showTitle": false,
     "tableResultSettingsMap": {},
     "title": ""
    }
   },
   "outputs": [],
   "source": [
    "display(spark.sql(\"DESCRIBE TABLE silver.data_suicide.who_suicide_data\"))"
   ]
  },
  {
   "cell_type": "code",
   "execution_count": 0,
   "metadata": {
    "application/vnd.databricks.v1+cell": {
     "cellMetadata": {
      "byteLimit": 2048000,
      "rowLimit": 10000
     },
     "inputWidgets": {},
     "nuid": "ed299084-15b4-462f-893c-66053430fed8",
     "showTitle": false,
     "tableResultSettingsMap": {},
     "title": ""
    }
   },
   "outputs": [],
   "source": [
    "display(spark.sql(\"SELECT * FROM silver.data_suicide.who_suicide_data\"))"
   ]
  }
 ],
 "metadata": {
  "application/vnd.databricks.v1+notebook": {
   "computePreferences": null,
   "dashboards": [],
   "environmentMetadata": {
    "base_environment": "",
    "environment_version": "3"
   },
   "inputWidgetPreferences": null,
   "language": "python",
   "notebookMetadata": {
    "pythonIndentUnit": 4
   },
   "notebookName": "Silver",
   "widgets": {}
  },
  "language_info": {
   "name": "python"
  }
 },
 "nbformat": 4,
 "nbformat_minor": 0
}
