{
 "cells": [
  {
   "cell_type": "code",
   "execution_count": 0,
   "metadata": {
    "application/vnd.databricks.v1+cell": {
     "cellMetadata": {
      "byteLimit": 2048000,
      "rowLimit": 10000
     },
     "inputWidgets": {},
     "nuid": "86621a41-2dea-467d-8a80-7cdec77e773a",
     "showTitle": false,
     "tableResultSettingsMap": {},
     "title": ""
    }
   },
   "outputs": [],
   "source": [
    "bronze_table = \"bronze.data_suicide.hdi_owid\"                          \n",
    "silver_table = \"silver.data_suicide.hdi_owid\"   "
   ]
  },
  {
   "cell_type": "code",
   "execution_count": 0,
   "metadata": {
    "application/vnd.databricks.v1+cell": {
     "cellMetadata": {
      "byteLimit": 2048000,
      "rowLimit": 10000
     },
     "inputWidgets": {},
     "nuid": "b43bea2c-5b22-4453-a9a3-85537860b7af",
     "showTitle": false,
     "tableResultSettingsMap": {},
     "title": ""
    }
   },
   "outputs": [],
   "source": [
    "from pyspark.sql import functions as F"
   ]
  },
  {
   "cell_type": "code",
   "execution_count": 0,
   "metadata": {
    "application/vnd.databricks.v1+cell": {
     "cellMetadata": {
      "byteLimit": 2048000,
      "rowLimit": 10000
     },
     "inputWidgets": {},
     "nuid": "18bcec03-8c76-4894-99ed-f2eb4f12c8fb",
     "showTitle": false,
     "tableResultSettingsMap": {},
     "title": ""
    }
   },
   "outputs": [],
   "source": [
    "df_raw = spark.read.table(bronze_table)\n",
    "\n",
    "df_silver = (\n",
    "    df_raw\n",
    "    .withColumnRenamed(\"Entity\", \"country_name\")\n",
    "    .withColumnRenamed(\"Code\", \"country_code_iso3\")\n",
    "    .withColumnRenamed(\"Year\", \"year\")\n",
    "    .withColumnRenamed(\"human_development_index\", \"hdi\")\n",
    "    .filter(F.col(\"country_code_iso3\").isNotNull())    # remove agregados sem ISO3\n",
    "    .withColumn(\"year\", F.col(\"year\").cast(\"int\"))\n",
    "    .withColumn(\"hdi\", F.col(\"hdi\").cast(\"double\"))\n",
    "    .select(\"country_code_iso3\", \"country_name\", \"year\", \"hdi\")\n",
    ")\n"
   ]
  },
  {
   "cell_type": "code",
   "execution_count": 0,
   "metadata": {
    "application/vnd.databricks.v1+cell": {
     "cellMetadata": {
      "byteLimit": 2048000,
      "rowLimit": 10000
     },
     "inputWidgets": {},
     "nuid": "79b27158-c35d-4d39-9c7f-f3669afe8297",
     "showTitle": false,
     "tableResultSettingsMap": {},
     "title": ""
    }
   },
   "outputs": [],
   "source": [
    "(\n",
    "    df_silver.write\n",
    "    .mode(\"overwrite\")\n",
    "    .option(\"mergeSchema\",\"true\")\n",
    "    .saveAsTable(silver_table)\n",
    ")"
   ]
  },
  {
   "cell_type": "code",
   "execution_count": 0,
   "metadata": {
    "application/vnd.databricks.v1+cell": {
     "cellMetadata": {
      "byteLimit": 2048000,
      "rowLimit": 10000
     },
     "inputWidgets": {},
     "nuid": "f5a939c9-bb4a-4983-b591-6300cd28da81",
     "showTitle": false,
     "tableResultSettingsMap": {},
     "title": ""
    }
   },
   "outputs": [],
   "source": [
    "# Comentários na tabela/colunas\n",
    "spark.sql(f\"\"\"\n",
    "COMMENT ON TABLE {silver_table} IS\n",
    "'HDI (Human Development Index) do Our World in Data: país-ano, ISO3 e valor do índice. Derivado de {bronze_table}.'\n",
    "\"\"\")\n",
    "spark.sql(f\"COMMENT ON COLUMN {silver_table}.country_code_iso3 IS 'Código ISO3 do país (OWID/ISO)';\")\n",
    "spark.sql(f\"COMMENT ON COLUMN {silver_table}.country_name IS 'Nome do país (OWID)';\")\n",
    "spark.sql(f\"COMMENT ON COLUMN {silver_table}.year IS 'Ano (Gregorian)';\")\n",
    "spark.sql(f\"COMMENT ON COLUMN {silver_table}.hdi IS 'Human Development Index (0–1), conforme OWID/UNDP';\")\n",
    "\n",
    "print(\"Silver gravada em:\", silver_table)"
   ]
  },
  {
   "cell_type": "code",
   "execution_count": 0,
   "metadata": {
    "application/vnd.databricks.v1+cell": {
     "cellMetadata": {
      "byteLimit": 2048000,
      "rowLimit": 10000
     },
     "inputWidgets": {},
     "nuid": "b894f2a7-427f-48a2-a3c4-9c218fb79c44",
     "showTitle": false,
     "tableResultSettingsMap": {},
     "title": ""
    }
   },
   "outputs": [],
   "source": [
    "display(spark.sql(f\"\"\"DESCRIBE TABLE {silver_table}\"\"\"))"
   ]
  },
  {
   "cell_type": "code",
   "execution_count": 0,
   "metadata": {
    "application/vnd.databricks.v1+cell": {
     "cellMetadata": {
      "byteLimit": 2048000,
      "rowLimit": 10000
     },
     "inputWidgets": {},
     "nuid": "e10753b9-f8c5-4f53-b1ee-b32c11d72473",
     "showTitle": false,
     "tableResultSettingsMap": {},
     "title": ""
    }
   },
   "outputs": [],
   "source": [
    "display(spark.sql(f\"\"\"select * from {silver_table}\"\"\"))"
   ]
  }
 ],
 "metadata": {
  "application/vnd.databricks.v1+notebook": {
   "computePreferences": null,
   "dashboards": [],
   "environmentMetadata": {
    "base_environment": "",
    "environment_version": "3"
   },
   "inputWidgetPreferences": null,
   "language": "python",
   "notebookMetadata": {
    "pythonIndentUnit": 4
   },
   "notebookName": "Silver",
   "widgets": {}
  },
  "language_info": {
   "name": "python"
  }
 },
 "nbformat": 4,
 "nbformat_minor": 0
}
