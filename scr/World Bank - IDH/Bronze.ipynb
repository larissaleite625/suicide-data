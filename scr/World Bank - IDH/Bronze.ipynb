{
 "cells": [
  {
   "cell_type": "code",
   "execution_count": 0,
   "metadata": {
    "application/vnd.databricks.v1+cell": {
     "cellMetadata": {
      "byteLimit": 2048000,
      "rowLimit": 10000
     },
     "inputWidgets": {},
     "nuid": "c1f19497-7b92-4259-bd1f-d6b1a6a2ece1",
     "showTitle": false,
     "tableResultSettingsMap": {},
     "title": ""
    }
   },
   "outputs": [],
   "source": [
    "import io\n",
    "import requests\n",
    "import pandas as pd\n",
    "from pyspark.sql import functions as F"
   ]
  },
  {
   "cell_type": "code",
   "execution_count": 0,
   "metadata": {
    "application/vnd.databricks.v1+cell": {
     "cellMetadata": {
      "byteLimit": 2048000,
      "rowLimit": 10000
     },
     "inputWidgets": {},
     "nuid": "6f3b290c-2fb9-4b82-8c20-099f79b05992",
     "showTitle": false,
     "tableResultSettingsMap": {},
     "title": ""
    }
   },
   "outputs": [],
   "source": [
    "\n",
    "csv_url = \"https://ourworldindata.org/grapher/human-development-index.csv\"  # OWID HDI CSV\n",
    "landing_path_hdi = \"s3://bucketbastet/data-suicide/hdi_owid/\"               # landing (Parquet)\n",
    "bronze_table = \"bronze.data_suicide.hdi_owid\"                                # bronze table"
   ]
  },
  {
   "cell_type": "code",
   "execution_count": 0,
   "metadata": {
    "application/vnd.databricks.v1+cell": {
     "cellMetadata": {
      "byteLimit": 2048000,
      "rowLimit": 10000
     },
     "inputWidgets": {},
     "nuid": "bca49220-16d9-4814-b485-1ef13d5c8ad3",
     "showTitle": false,
     "tableResultSettingsMap": {},
     "title": ""
    }
   },
   "outputs": [],
   "source": [
    "resp = requests.get(csv_url, timeout=120)\n",
    "resp.raise_for_status()\n",
    "\n",
    "pdf = pd.read_csv(io.StringIO(resp.text))   \n",
    "spark_df = spark.createDataFrame(pdf)"
   ]
  },
  {
   "cell_type": "code",
   "execution_count": 0,
   "metadata": {
    "application/vnd.databricks.v1+cell": {
     "cellMetadata": {
      "byteLimit": 2048000,
      "rowLimit": 10000
     },
     "inputWidgets": {},
     "nuid": "966f84ed-1791-4c13-ab19-2ce63fafff09",
     "showTitle": false,
     "tableResultSettingsMap": {},
     "title": ""
    }
   },
   "outputs": [],
   "source": [
    "# drop colunas void\n",
    "void_cols = [c for c, t in spark_df.dtypes if t == \"void\"]\n",
    "spark_df = spark_df.drop(*void_cols) if void_cols else spark_df\n",
    "\n",
    "# salva landing em Parquet\n",
    "(spark_df.write.mode(\"overwrite\").parquet(landing_path_hdi))\n",
    "print(\"Landing salvo em:\", landing_path_hdi)"
   ]
  },
  {
   "cell_type": "code",
   "execution_count": 0,
   "metadata": {
    "application/vnd.databricks.v1+cell": {
     "cellMetadata": {
      "byteLimit": 2048000,
      "rowLimit": 10000
     },
     "inputWidgets": {},
     "nuid": "e34992ef-fa18-40c0-8bc2-e9e784673efe",
     "showTitle": false,
     "tableResultSettingsMap": {
      "0": {
       "dataGridStateBlob": "{\"version\":1,\"tableState\":{\"columnPinning\":{\"left\":[\"#row_number#\"],\"right\":[]},\"columnSizing\":{\"Entity\":258,\"Code\":243},\"columnVisibility\":{}},\"settings\":{\"columns\":{}},\"syncTimestamp\":1759018971941}",
       "filterBlob": null,
       "queryPlanFiltersBlob": null,
       "tableResultIndex": 0
      }
     },
     "title": ""
    }
   },
   "outputs": [],
   "source": [
    "df_raw = spark.read.parquet(landing_path_hdi)\n",
    "\n",
    "# Quantos arquivos 'part-*' o Spark leu\n",
    "arquivos_lidos = df_raw.inputFiles()\n",
    "print(\"Arquivos lidos (part-*):\", len(arquivos_lidos))\n",
    "\n",
    "display(df_raw)\n",
    "\n",
    "invalid_chars = [' ', ',', ';', '{', '}', '(', ')', '\\n', '\\t', '=']\n",
    "def clean_col(col):\n",
    "    for ch in invalid_chars:\n",
    "        col = col.replace(ch, '_')\n",
    "    return col\n",
    "\n",
    "for col in df_raw.columns:\n",
    "    new_col = clean_col(col)\n",
    "    if new_col != col:\n",
    "        df_raw = df_raw.withColumnRenamed(col, new_col)\n",
    "\n"
   ]
  },
  {
   "cell_type": "code",
   "execution_count": 0,
   "metadata": {
    "application/vnd.databricks.v1+cell": {
     "cellMetadata": {
      "byteLimit": 2048000,
      "rowLimit": 10000
     },
     "inputWidgets": {},
     "nuid": "32f5bf0a-c950-40be-a4ad-b40085489487",
     "showTitle": false,
     "tableResultSettingsMap": {},
     "title": ""
    }
   },
   "outputs": [],
   "source": [
    "# salvar como tabela no catálogo bronze\n",
    "(\n",
    "    df_raw.write\n",
    "    .mode(\"overwrite\")\n",
    "    .option(\"mergeSchema\",\"true\")\n",
    "    .saveAsTable(bronze_table)\n",
    ")\n",
    "print(\"Bronze gravada em:\", bronze_table)"
   ]
  }
 ],
 "metadata": {
  "application/vnd.databricks.v1+notebook": {
   "computePreferences": null,
   "dashboards": [],
   "environmentMetadata": {
    "base_environment": "",
    "environment_version": "3"
   },
   "inputWidgetPreferences": null,
   "language": "python",
   "notebookMetadata": {
    "pythonIndentUnit": 4
   },
   "notebookName": "Bronze",
   "widgets": {}
  },
  "language_info": {
   "name": "python"
  }
 },
 "nbformat": 4,
 "nbformat_minor": 0
}
